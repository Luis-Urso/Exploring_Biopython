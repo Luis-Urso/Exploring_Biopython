{
 "cells": [
  {
   "cell_type": "markdown",
   "metadata": {},
   "source": [
    "# Scripts for Biopython Article on Medium"
   ]
  },
  {
   "cell_type": "markdown",
   "metadata": {},
   "source": [
    "## Libraries to Import"
   ]
  },
  {
   "cell_type": "code",
   "execution_count": 25,
   "metadata": {},
   "outputs": [],
   "source": [
    "from IPython.core.display import Image\n",
    "from Bio.Seq import Seq\n",
    "from Bio.SeqUtils import GC\n",
    "\n",
    "from reportlab.lib import colors\n",
    "from reportlab.lib.units import cm\n",
    "from Bio.Graphics import GenomeDiagram\n",
    "from Bio import SeqIO\n",
    "from Bio.SeqFeature import SeqFeature, FeatureLocation"
   ]
  },
  {
   "cell_type": "markdown",
   "metadata": {},
   "source": [
    "## Sequencing Methods"
   ]
  },
  {
   "cell_type": "code",
   "execution_count": 26,
   "metadata": {},
   "outputs": [],
   "source": [
    "my_seq = Seq(\"AGTCC\")"
   ]
  },
  {
   "cell_type": "code",
   "execution_count": 27,
   "metadata": {},
   "outputs": [
    {
     "data": {
      "text/plain": [
       "Seq('AGTCC')"
      ]
     },
     "execution_count": 27,
     "metadata": {},
     "output_type": "execute_result"
    }
   ],
   "source": [
    "my_seq"
   ]
  },
  {
   "cell_type": "code",
   "execution_count": 28,
   "metadata": {},
   "outputs": [
    {
     "data": {
      "text/plain": [
       "Seq('TCAGG')"
      ]
     },
     "execution_count": 28,
     "metadata": {},
     "output_type": "execute_result"
    }
   ],
   "source": [
    "my_seq.complement()"
   ]
  },
  {
   "cell_type": "code",
   "execution_count": 29,
   "metadata": {},
   "outputs": [
    {
     "data": {
      "text/plain": [
       "Seq('GGACT')"
      ]
     },
     "execution_count": 29,
     "metadata": {},
     "output_type": "execute_result"
    }
   ],
   "source": [
    "my_seq.reverse_complement()"
   ]
  },
  {
   "cell_type": "code",
   "execution_count": 30,
   "metadata": {},
   "outputs": [
    {
     "data": {
      "text/plain": [
       "5"
      ]
     },
     "execution_count": 30,
     "metadata": {},
     "output_type": "execute_result"
    }
   ],
   "source": [
    "len(my_seq)"
   ]
  },
  {
   "cell_type": "code",
   "execution_count": 31,
   "metadata": {},
   "outputs": [
    {
     "name": "stdout",
     "output_type": "stream",
     "text": [
      "A\n",
      "G\n",
      "T\n",
      "C\n",
      "C\n"
     ]
    }
   ],
   "source": [
    "for bp in my_seq:\n",
    "    print(bp)"
   ]
  },
  {
   "cell_type": "code",
   "execution_count": 32,
   "metadata": {},
   "outputs": [
    {
     "data": {
      "text/plain": [
       "Seq('GTC')"
      ]
     },
     "execution_count": 32,
     "metadata": {},
     "output_type": "execute_result"
    }
   ],
   "source": [
    "small = my_seq[1:4]\n",
    "small"
   ]
  },
  {
   "cell_type": "code",
   "execution_count": 33,
   "metadata": {},
   "outputs": [
    {
     "data": {
      "text/plain": [
       "60.0"
      ]
     },
     "execution_count": 33,
     "metadata": {},
     "output_type": "execute_result"
    }
   ],
   "source": [
    "GC(my_seq)"
   ]
  },
  {
   "cell_type": "code",
   "execution_count": 34,
   "metadata": {},
   "outputs": [
    {
     "data": {
      "text/plain": [
       "Seq('TGAC')"
      ]
     },
     "execution_count": 34,
     "metadata": {},
     "output_type": "execute_result"
    }
   ],
   "source": [
    "seq = Seq('ACTG')\n",
    "seq.complement()"
   ]
  },
  {
   "cell_type": "code",
   "execution_count": 35,
   "metadata": {},
   "outputs": [],
   "source": [
    "coding = Seq('ATGTAG')"
   ]
  },
  {
   "cell_type": "code",
   "execution_count": 36,
   "metadata": {},
   "outputs": [],
   "source": [
    "template = coding.reverse_complement()"
   ]
  },
  {
   "cell_type": "code",
   "execution_count": 37,
   "metadata": {},
   "outputs": [
    {
     "data": {
      "text/plain": [
       "Seq('AUGUAG')"
      ]
     },
     "execution_count": 37,
     "metadata": {},
     "output_type": "execute_result"
    }
   ],
   "source": [
    "template.reverse_complement().transcribe()"
   ]
  },
  {
   "cell_type": "code",
   "execution_count": 38,
   "metadata": {},
   "outputs": [
    {
     "data": {
      "text/plain": [
       "Seq('AUGUAG')"
      ]
     },
     "execution_count": 38,
     "metadata": {},
     "output_type": "execute_result"
    }
   ],
   "source": [
    "coding.transcribe()"
   ]
  },
  {
   "cell_type": "markdown",
   "metadata": {},
   "source": [
    "## Bubonic Plague Avirulent Strain Visualization"
   ]
  },
  {
   "cell_type": "code",
   "execution_count": 40,
   "metadata": {},
   "outputs": [
    {
     "ename": "RuntimeError",
     "evalue": "This installation of reportLab has neither RLPYCAIRO or RLRENDERPM extras installed.\nIt cannot create paths from text.\nCould not create text2PathDescription for using backends from ('freetype', '_renderPM')",
     "output_type": "error",
     "traceback": [
      "\u001b[1;31m---------------------------------------------------------------------------\u001b[0m",
      "\u001b[1;31mRuntimeError\u001b[0m                              Traceback (most recent call last)",
      "Cell \u001b[1;32mIn[40], line 50\u001b[0m\n\u001b[0;32m     40\u001b[0m         index \u001b[39m+\u001b[39m\u001b[39m=\u001b[39m \u001b[39mlen\u001b[39m(site)\n\u001b[0;32m     42\u001b[0m gd_diagram\u001b[39m.\u001b[39mdraw(\n\u001b[0;32m     43\u001b[0m     \u001b[39mformat\u001b[39m\u001b[39m=\u001b[39m\u001b[39m\"\u001b[39m\u001b[39mcircular\u001b[39m\u001b[39m\"\u001b[39m,\n\u001b[0;32m     44\u001b[0m     circular\u001b[39m=\u001b[39m\u001b[39mTrue\u001b[39;00m,\n\u001b[1;32m   (...)\u001b[0m\n\u001b[0;32m     47\u001b[0m     end\u001b[39m=\u001b[39m\u001b[39mlen\u001b[39m(record),\n\u001b[0;32m     48\u001b[0m     circle_core\u001b[39m=\u001b[39m\u001b[39m0.5\u001b[39m)\n\u001b[1;32m---> 50\u001b[0m gd_diagram\u001b[39m.\u001b[39;49mwrite(\u001b[39m\"\u001b[39;49m\u001b[39mplasmid_circular_nice1.png\u001b[39;49m\u001b[39m\"\u001b[39;49m, \u001b[39m\"\u001b[39;49m\u001b[39mPNG\u001b[39;49m\u001b[39m\"\u001b[39;49m)\n",
      "File \u001b[1;32mc:\\Users\\laurs\\AppData\\Local\\Programs\\Python\\Python310\\lib\\site-packages\\Bio\\Graphics\\GenomeDiagram\\_Diagram.py:244\u001b[0m, in \u001b[0;36mDiagram.write\u001b[1;34m(self, filename, output, dpi)\u001b[0m\n\u001b[0;32m    226\u001b[0m \u001b[39mdef\u001b[39;00m \u001b[39mwrite\u001b[39m(\u001b[39mself\u001b[39m, filename\u001b[39m=\u001b[39m\u001b[39m\"\u001b[39m\u001b[39mtest1.ps\u001b[39m\u001b[39m\"\u001b[39m, output\u001b[39m=\u001b[39m\u001b[39m\"\u001b[39m\u001b[39mPS\u001b[39m\u001b[39m\"\u001b[39m, dpi\u001b[39m=\u001b[39m\u001b[39m72\u001b[39m):\n\u001b[0;32m    227\u001b[0m \u001b[39m    \u001b[39m\u001b[39m\"\"\"Write the drawn diagram to a specified file, in a specified format.\u001b[39;00m\n\u001b[0;32m    228\u001b[0m \n\u001b[0;32m    229\u001b[0m \u001b[39m    Arguments:\u001b[39;00m\n\u001b[1;32m   (...)\u001b[0m\n\u001b[0;32m    242\u001b[0m \n\u001b[0;32m    243\u001b[0m \u001b[39m    \"\"\"\u001b[39;00m\n\u001b[1;32m--> 244\u001b[0m     \u001b[39mreturn\u001b[39;00m _write(\u001b[39mself\u001b[39;49m\u001b[39m.\u001b[39;49mdrawing, filename, output, dpi\u001b[39m=\u001b[39;49mdpi)\n",
      "File \u001b[1;32mc:\\Users\\laurs\\AppData\\Local\\Programs\\Python\\Python310\\lib\\site-packages\\Bio\\Graphics\\__init__.py:88\u001b[0m, in \u001b[0;36m_write\u001b[1;34m(drawing, output_file, format, dpi)\u001b[0m\n\u001b[0;32m     84\u001b[0m     \u001b[39mraise\u001b[39;00m MissingPythonDependencyError(\u001b[39m\"\u001b[39m\u001b[39mPlease install ReportLab\u001b[39m\u001b[39m'\u001b[39m\u001b[39ms renderPM module\u001b[39m\u001b[39m\"\u001b[39m)\n\u001b[0;32m     86\u001b[0m \u001b[39mif\u001b[39;00m drawmethod \u001b[39m==\u001b[39m renderPM:\n\u001b[0;32m     87\u001b[0m     \u001b[39m# This has a different API to the other render objects\u001b[39;00m\n\u001b[1;32m---> 88\u001b[0m     \u001b[39mreturn\u001b[39;00m drawmethod\u001b[39m.\u001b[39;49mdrawToFile(drawing, output_file, \u001b[39mformat\u001b[39;49m, dpi\u001b[39m=\u001b[39;49mdpi)\n\u001b[0;32m     89\u001b[0m \u001b[39melse\u001b[39;00m:\n\u001b[0;32m     90\u001b[0m     \u001b[39mreturn\u001b[39;00m drawmethod\u001b[39m.\u001b[39mdrawToFile(drawing, output_file)\n",
      "File \u001b[1;32mc:\\Users\\laurs\\AppData\\Local\\Programs\\Python\\Python310\\lib\\site-packages\\reportlab\\graphics\\renderPM.py:716\u001b[0m, in \u001b[0;36mdrawToFile\u001b[1;34m(d, fn, fmt, dpi, bg, configPIL, showBoundary, backend)\u001b[0m\n\u001b[0;32m    713\u001b[0m \u001b[39mdef\u001b[39;00m \u001b[39mdrawToFile\u001b[39m(d,fn,fmt\u001b[39m=\u001b[39m\u001b[39m'\u001b[39m\u001b[39mGIF\u001b[39m\u001b[39m'\u001b[39m, dpi\u001b[39m=\u001b[39m\u001b[39m72\u001b[39m, bg\u001b[39m=\u001b[39m\u001b[39m0xffffff\u001b[39m, configPIL\u001b[39m=\u001b[39m\u001b[39mNone\u001b[39;00m, showBoundary\u001b[39m=\u001b[39mrl_config\u001b[39m.\u001b[39m_unset_,backend\u001b[39m=\u001b[39mrl_config\u001b[39m.\u001b[39mrenderPMBackend):\n\u001b[0;32m    714\u001b[0m \u001b[39m    \u001b[39m\u001b[39m'''create a pixmap and draw drawing, d to it then save as a file\u001b[39;00m\n\u001b[0;32m    715\u001b[0m \u001b[39m    configPIL dict is passed to image save method'''\u001b[39;00m\n\u001b[1;32m--> 716\u001b[0m     c \u001b[39m=\u001b[39m drawToPMCanvas(d, dpi\u001b[39m=\u001b[39;49mdpi, bg\u001b[39m=\u001b[39;49mbg, configPIL\u001b[39m=\u001b[39;49mconfigPIL, showBoundary\u001b[39m=\u001b[39;49mshowBoundary,backend\u001b[39m=\u001b[39;49mbackend)\n\u001b[0;32m    717\u001b[0m     c\u001b[39m.\u001b[39msaveToFile(fn,fmt)\n",
      "File \u001b[1;32mc:\\Users\\laurs\\AppData\\Local\\Programs\\Python\\Python310\\lib\\site-packages\\reportlab\\graphics\\renderPM.py:702\u001b[0m, in \u001b[0;36mdrawToPMCanvas\u001b[1;34m(d, dpi, bg, configPIL, showBoundary, backend)\u001b[0m\n\u001b[0;32m    700\u001b[0m d \u001b[39m=\u001b[39m renderScaledDrawing(d)\n\u001b[0;32m    701\u001b[0m c \u001b[39m=\u001b[39m PMCanvas(d\u001b[39m.\u001b[39mwidth, d\u001b[39m.\u001b[39mheight, dpi\u001b[39m=\u001b[39mdpi, bg\u001b[39m=\u001b[39mbg, configPIL\u001b[39m=\u001b[39mconfigPIL, backend\u001b[39m=\u001b[39mbackend)\n\u001b[1;32m--> 702\u001b[0m draw(d, c, \u001b[39m0\u001b[39;49m, \u001b[39m0\u001b[39;49m, showBoundary\u001b[39m=\u001b[39;49mshowBoundary)\n\u001b[0;32m    703\u001b[0m \u001b[39mreturn\u001b[39;00m c\n",
      "File \u001b[1;32mc:\\Users\\laurs\\AppData\\Local\\Programs\\Python\\Python310\\lib\\site-packages\\reportlab\\graphics\\renderPM.py:76\u001b[0m, in \u001b[0;36mdraw\u001b[1;34m(drawing, canvas, x, y, showBoundary)\u001b[0m\n\u001b[0;32m     74\u001b[0m \u001b[39m\u001b[39m\u001b[39m\"\"\"As it says\"\"\"\u001b[39;00m\n\u001b[0;32m     75\u001b[0m R \u001b[39m=\u001b[39m _PMRenderer()\n\u001b[1;32m---> 76\u001b[0m R\u001b[39m.\u001b[39;49mdraw(renderScaledDrawing(drawing), canvas, x, y, showBoundary\u001b[39m=\u001b[39;49mshowBoundary)\n",
      "File \u001b[1;32mc:\\Users\\laurs\\AppData\\Local\\Programs\\Python\\Python310\\lib\\site-packages\\reportlab\\graphics\\renderbase.py:185\u001b[0m, in \u001b[0;36mRenderer.draw\u001b[1;34m(self, drawing, canvas, x, y, showBoundary)\u001b[0m\n\u001b[0;32m    183\u001b[0m         canvas\u001b[39m.\u001b[39mrect(x, y, drawing\u001b[39m.\u001b[39mwidth, drawing\u001b[39m.\u001b[39mheight)\n\u001b[0;32m    184\u001b[0m canvas\u001b[39m.\u001b[39msaveState()\n\u001b[1;32m--> 185\u001b[0m \u001b[39mself\u001b[39;49m\u001b[39m.\u001b[39;49minitState(x,y)  \u001b[39m#this is the push()\u001b[39;00m\n\u001b[0;32m    186\u001b[0m \u001b[39mself\u001b[39m\u001b[39m.\u001b[39mdrawNode(drawing)\n\u001b[0;32m    187\u001b[0m \u001b[39mself\u001b[39m\u001b[39m.\u001b[39mpop()\n",
      "File \u001b[1;32mc:\\Users\\laurs\\AppData\\Local\\Programs\\Python\\Python310\\lib\\site-packages\\reportlab\\graphics\\renderPM.py:123\u001b[0m, in \u001b[0;36m_PMRenderer.initState\u001b[1;34m(self, x, y)\u001b[0m\n\u001b[0;32m    121\u001b[0m deltas[\u001b[39m'\u001b[39m\u001b[39mtransform\u001b[39m\u001b[39m'\u001b[39m] \u001b[39m=\u001b[39m deltas[\u001b[39m'\u001b[39m\u001b[39mctm\u001b[39m\u001b[39m'\u001b[39m] \u001b[39m=\u001b[39m \u001b[39mself\u001b[39m\u001b[39m.\u001b[39m_canvas\u001b[39m.\u001b[39m_baseCTM[\u001b[39m0\u001b[39m:\u001b[39m4\u001b[39m]\u001b[39m+\u001b[39m(x,y)\n\u001b[0;32m    122\u001b[0m \u001b[39mself\u001b[39m\u001b[39m.\u001b[39m_tracker\u001b[39m.\u001b[39mpush(deltas)\n\u001b[1;32m--> 123\u001b[0m \u001b[39mself\u001b[39;49m\u001b[39m.\u001b[39;49mapplyState()\n",
      "File \u001b[1;32mc:\\Users\\laurs\\AppData\\Local\\Programs\\Python\\Python310\\lib\\site-packages\\reportlab\\graphics\\renderPM.py:117\u001b[0m, in \u001b[0;36m_PMRenderer.applyState\u001b[1;34m(self)\u001b[0m\n\u001b[0;32m    115\u001b[0m     \u001b[39mself\u001b[39m\u001b[39m.\u001b[39m_canvas\u001b[39m.\u001b[39mfillOpacity \u001b[39m=\u001b[39m alpha\n\u001b[0;32m    116\u001b[0m \u001b[39mself\u001b[39m\u001b[39m.\u001b[39m_canvas\u001b[39m.\u001b[39msetFillColor(s[\u001b[39m'\u001b[39m\u001b[39mfillColor\u001b[39m\u001b[39m'\u001b[39m])\n\u001b[1;32m--> 117\u001b[0m \u001b[39mself\u001b[39;49m\u001b[39m.\u001b[39;49m_canvas\u001b[39m.\u001b[39;49msetFont(s[\u001b[39m'\u001b[39;49m\u001b[39mfontName\u001b[39;49m\u001b[39m'\u001b[39;49m], s[\u001b[39m'\u001b[39;49m\u001b[39mfontSize\u001b[39;49m\u001b[39m'\u001b[39;49m])\n",
      "File \u001b[1;32mc:\\Users\\laurs\\AppData\\Local\\Programs\\Python\\Python310\\lib\\site-packages\\reportlab\\graphics\\renderPM.py:430\u001b[0m, in \u001b[0;36mPMCanvas.setFont\u001b[1;34m(self, fontName, fontSize, leading)\u001b[0m\n\u001b[0;32m    429\u001b[0m \u001b[39mdef\u001b[39;00m \u001b[39msetFont\u001b[39m(\u001b[39mself\u001b[39m,fontName,fontSize,leading\u001b[39m=\u001b[39m\u001b[39mNone\u001b[39;00m):\n\u001b[1;32m--> 430\u001b[0m     _setFont(\u001b[39mself\u001b[39;49m\u001b[39m.\u001b[39;49m_gs,fontName,fontSize)\n",
      "File \u001b[1;32mc:\\Users\\laurs\\AppData\\Local\\Programs\\Python\\Python310\\lib\\site-packages\\reportlab\\graphics\\utils.py:255\u001b[0m, in \u001b[0;36m__makeTextPathsCode__.<locals>._\u001b[1;34m(*args, **kwds)\u001b[0m\n\u001b[0;32m    254\u001b[0m         \u001b[39mdef\u001b[39;00m \u001b[39m_\u001b[39m(\u001b[39m*\u001b[39margs,\u001b[39m*\u001b[39m\u001b[39m*\u001b[39mkwds):\n\u001b[1;32m--> 255\u001b[0m             \u001b[39mraise\u001b[39;00m \u001b[39mRuntimeError\u001b[39;00m(\u001b[39mf\u001b[39m\u001b[39m'''\u001b[39m\u001b[39mThis installation of reportLab has neither RLPYCAIRO or RLRENDERPM extras installed.\u001b[39m\n\u001b[0;32m    256\u001b[0m \u001b[39mIt cannot create paths from text.\u001b[39m\n\u001b[0;32m    257\u001b[0m \u001b[39mCould not create text2PathDescription for using backends from \u001b[39m\u001b[39m{\u001b[39;00mTP\u001b[39m!a}\u001b[39;00m\u001b[39m'''\u001b[39m)\n",
      "\u001b[1;31mRuntimeError\u001b[0m: This installation of reportLab has neither RLPYCAIRO or RLRENDERPM extras installed.\nIt cannot create paths from text.\nCould not create text2PathDescription for using backends from ('freetype', '_renderPM')"
     ]
    }
   ],
   "source": [
    "record = SeqIO.read(\"NC_005816.gb\", \"genbank\")\n",
    "\n",
    "gd_diagram = GenomeDiagram.Diagram(record.id)\n",
    "gd_track_for_features = gd_diagram.new_track(1, name=\"Annotated Features\")\n",
    "gd_feature_set = gd_track_for_features.new_set()\n",
    "\n",
    "for feature in record.features:\n",
    "    if feature.type != \"gene\":\n",
    "        # Exclude this feature\n",
    "        continue\n",
    "    if len(gd_feature_set) % 2 == 0:\n",
    "        color = colors.blue\n",
    "    else:\n",
    "        color = colors.lightblue\n",
    "    gd_feature_set.add_feature(\n",
    "        feature, sigil=\"ARROW\", color=color, label=True, label_size=14, label_angle=0\n",
    "    )\n",
    "\n",
    "# I want to include some strandless features, so for an example\n",
    "# will use EcoRI recognition sites etc.\n",
    "for site, name, color in [\n",
    "    (\"GAATTC\", \"EcoRI\", colors.green),\n",
    "    (\"CCCGGG\", \"SmaI\", colors.orange),\n",
    "    (\"AAGCTT\", \"HindIII\", colors.red),\n",
    "    (\"GGATCC\", \"BamHI\", colors.purple)]:\n",
    "    index = 0\n",
    "    while True:\n",
    "        index = record.seq.find(site, start=index)\n",
    "        if index == -1:\n",
    "            break\n",
    "        feature = SeqFeature(FeatureLocation(index, index + len(site)))\n",
    "        gd_feature_set.add_feature(\n",
    "            feature,\n",
    "            color=color,\n",
    "            name=name,\n",
    "            label=True,\n",
    "            label_size=10,\n",
    "            label_color=color,\n",
    "        )\n",
    "        index += len(site)\n",
    "\n",
    "gd_diagram.draw(\n",
    "    format=\"circular\",\n",
    "    circular=True,\n",
    "    pagesize=(20 * cm, 20 * cm),\n",
    "    start=0,\n",
    "    end=len(record),\n",
    "    circle_core=0.5)\n",
    "\n",
    "gd_diagram.write(\"plasmid_circular_nice1.png\", \"PNG\")"
   ]
  },
  {
   "cell_type": "code",
   "execution_count": 20,
   "metadata": {},
   "outputs": [
    {
     "ename": "FileNotFoundError",
     "evalue": "No such file or directory: 'plasmid_circular_nice1.png'",
     "output_type": "error",
     "traceback": [
      "\u001b[1;31m---------------------------------------------------------------------------\u001b[0m",
      "\u001b[1;31mTypeError\u001b[0m                                 Traceback (most recent call last)",
      "File \u001b[1;32m~\\AppData\\Roaming\\Python\\Python310\\site-packages\\IPython\\core\\display.py:1045\u001b[0m, in \u001b[0;36mImage._data_and_metadata\u001b[1;34m(self, always_both)\u001b[0m\n\u001b[0;32m   1044\u001b[0m \u001b[39mtry\u001b[39;00m:\n\u001b[1;32m-> 1045\u001b[0m     b64_data \u001b[39m=\u001b[39m b2a_base64(\u001b[39mself\u001b[39;49m\u001b[39m.\u001b[39;49mdata)\u001b[39m.\u001b[39mdecode(\u001b[39m'\u001b[39m\u001b[39mascii\u001b[39m\u001b[39m'\u001b[39m)\n\u001b[0;32m   1046\u001b[0m \u001b[39mexcept\u001b[39;00m \u001b[39mTypeError\u001b[39;00m \u001b[39mas\u001b[39;00m e:\n",
      "\u001b[1;31mTypeError\u001b[0m: a bytes-like object is required, not 'str'",
      "\nThe above exception was the direct cause of the following exception:\n",
      "\u001b[1;31mFileNotFoundError\u001b[0m                         Traceback (most recent call last)",
      "File \u001b[1;32m~\\AppData\\Roaming\\Python\\Python310\\site-packages\\IPython\\core\\formatters.py:972\u001b[0m, in \u001b[0;36mMimeBundleFormatter.__call__\u001b[1;34m(self, obj, include, exclude)\u001b[0m\n\u001b[0;32m    969\u001b[0m     method \u001b[39m=\u001b[39m get_real_method(obj, \u001b[39mself\u001b[39m\u001b[39m.\u001b[39mprint_method)\n\u001b[0;32m    971\u001b[0m     \u001b[39mif\u001b[39;00m method \u001b[39mis\u001b[39;00m \u001b[39mnot\u001b[39;00m \u001b[39mNone\u001b[39;00m:\n\u001b[1;32m--> 972\u001b[0m         \u001b[39mreturn\u001b[39;00m method(include\u001b[39m=\u001b[39;49minclude, exclude\u001b[39m=\u001b[39;49mexclude)\n\u001b[0;32m    973\u001b[0m     \u001b[39mreturn\u001b[39;00m \u001b[39mNone\u001b[39;00m\n\u001b[0;32m    974\u001b[0m \u001b[39melse\u001b[39;00m:\n",
      "File \u001b[1;32m~\\AppData\\Roaming\\Python\\Python310\\site-packages\\IPython\\core\\display.py:1035\u001b[0m, in \u001b[0;36mImage._repr_mimebundle_\u001b[1;34m(self, include, exclude)\u001b[0m\n\u001b[0;32m   1033\u001b[0m \u001b[39mif\u001b[39;00m \u001b[39mself\u001b[39m\u001b[39m.\u001b[39membed:\n\u001b[0;32m   1034\u001b[0m     mimetype \u001b[39m=\u001b[39m \u001b[39mself\u001b[39m\u001b[39m.\u001b[39m_mimetype\n\u001b[1;32m-> 1035\u001b[0m     data, metadata \u001b[39m=\u001b[39m \u001b[39mself\u001b[39;49m\u001b[39m.\u001b[39;49m_data_and_metadata(always_both\u001b[39m=\u001b[39;49m\u001b[39mTrue\u001b[39;49;00m)\n\u001b[0;32m   1036\u001b[0m     \u001b[39mif\u001b[39;00m metadata:\n\u001b[0;32m   1037\u001b[0m         metadata \u001b[39m=\u001b[39m {mimetype: metadata}\n",
      "File \u001b[1;32m~\\AppData\\Roaming\\Python\\Python310\\site-packages\\IPython\\core\\display.py:1047\u001b[0m, in \u001b[0;36mImage._data_and_metadata\u001b[1;34m(self, always_both)\u001b[0m\n\u001b[0;32m   1045\u001b[0m     b64_data \u001b[39m=\u001b[39m b2a_base64(\u001b[39mself\u001b[39m\u001b[39m.\u001b[39mdata)\u001b[39m.\u001b[39mdecode(\u001b[39m'\u001b[39m\u001b[39mascii\u001b[39m\u001b[39m'\u001b[39m)\n\u001b[0;32m   1046\u001b[0m \u001b[39mexcept\u001b[39;00m \u001b[39mTypeError\u001b[39;00m \u001b[39mas\u001b[39;00m e:\n\u001b[1;32m-> 1047\u001b[0m     \u001b[39mraise\u001b[39;00m \u001b[39mFileNotFoundError\u001b[39;00m(\n\u001b[0;32m   1048\u001b[0m         \u001b[39m\"\u001b[39m\u001b[39mNo such file or directory: \u001b[39m\u001b[39m'\u001b[39m\u001b[39m%s\u001b[39;00m\u001b[39m'\u001b[39m\u001b[39m\"\u001b[39m \u001b[39m%\u001b[39m (\u001b[39mself\u001b[39m\u001b[39m.\u001b[39mdata)) \u001b[39mfrom\u001b[39;00m \u001b[39me\u001b[39;00m\n\u001b[0;32m   1049\u001b[0m md \u001b[39m=\u001b[39m {}\n\u001b[0;32m   1050\u001b[0m \u001b[39mif\u001b[39;00m \u001b[39mself\u001b[39m\u001b[39m.\u001b[39mmetadata:\n",
      "\u001b[1;31mFileNotFoundError\u001b[0m: No such file or directory: 'plasmid_circular_nice1.png'"
     ]
    },
    {
     "ename": "FileNotFoundError",
     "evalue": "No such file or directory: 'plasmid_circular_nice1.png'",
     "output_type": "error",
     "traceback": [
      "\u001b[1;31m---------------------------------------------------------------------------\u001b[0m",
      "\u001b[1;31mTypeError\u001b[0m                                 Traceback (most recent call last)",
      "File \u001b[1;32m~\\AppData\\Roaming\\Python\\Python310\\site-packages\\IPython\\core\\display.py:1045\u001b[0m, in \u001b[0;36mImage._data_and_metadata\u001b[1;34m(self, always_both)\u001b[0m\n\u001b[0;32m   1044\u001b[0m \u001b[39mtry\u001b[39;00m:\n\u001b[1;32m-> 1045\u001b[0m     b64_data \u001b[39m=\u001b[39m b2a_base64(\u001b[39mself\u001b[39;49m\u001b[39m.\u001b[39;49mdata)\u001b[39m.\u001b[39mdecode(\u001b[39m'\u001b[39m\u001b[39mascii\u001b[39m\u001b[39m'\u001b[39m)\n\u001b[0;32m   1046\u001b[0m \u001b[39mexcept\u001b[39;00m \u001b[39mTypeError\u001b[39;00m \u001b[39mas\u001b[39;00m e:\n",
      "\u001b[1;31mTypeError\u001b[0m: a bytes-like object is required, not 'str'",
      "\nThe above exception was the direct cause of the following exception:\n",
      "\u001b[1;31mFileNotFoundError\u001b[0m                         Traceback (most recent call last)",
      "File \u001b[1;32m~\\AppData\\Roaming\\Python\\Python310\\site-packages\\IPython\\core\\formatters.py:342\u001b[0m, in \u001b[0;36mBaseFormatter.__call__\u001b[1;34m(self, obj)\u001b[0m\n\u001b[0;32m    340\u001b[0m     method \u001b[39m=\u001b[39m get_real_method(obj, \u001b[39mself\u001b[39m\u001b[39m.\u001b[39mprint_method)\n\u001b[0;32m    341\u001b[0m     \u001b[39mif\u001b[39;00m method \u001b[39mis\u001b[39;00m \u001b[39mnot\u001b[39;00m \u001b[39mNone\u001b[39;00m:\n\u001b[1;32m--> 342\u001b[0m         \u001b[39mreturn\u001b[39;00m method()\n\u001b[0;32m    343\u001b[0m     \u001b[39mreturn\u001b[39;00m \u001b[39mNone\u001b[39;00m\n\u001b[0;32m    344\u001b[0m \u001b[39melse\u001b[39;00m:\n",
      "File \u001b[1;32m~\\AppData\\Roaming\\Python\\Python310\\site-packages\\IPython\\core\\display.py:1067\u001b[0m, in \u001b[0;36mImage._repr_png_\u001b[1;34m(self)\u001b[0m\n\u001b[0;32m   1065\u001b[0m \u001b[39mdef\u001b[39;00m \u001b[39m_repr_png_\u001b[39m(\u001b[39mself\u001b[39m):\n\u001b[0;32m   1066\u001b[0m     \u001b[39mif\u001b[39;00m \u001b[39mself\u001b[39m\u001b[39m.\u001b[39membed \u001b[39mand\u001b[39;00m \u001b[39mself\u001b[39m\u001b[39m.\u001b[39mformat \u001b[39m==\u001b[39m \u001b[39mself\u001b[39m\u001b[39m.\u001b[39m_FMT_PNG:\n\u001b[1;32m-> 1067\u001b[0m         \u001b[39mreturn\u001b[39;00m \u001b[39mself\u001b[39;49m\u001b[39m.\u001b[39;49m_data_and_metadata()\n",
      "File \u001b[1;32m~\\AppData\\Roaming\\Python\\Python310\\site-packages\\IPython\\core\\display.py:1047\u001b[0m, in \u001b[0;36mImage._data_and_metadata\u001b[1;34m(self, always_both)\u001b[0m\n\u001b[0;32m   1045\u001b[0m     b64_data \u001b[39m=\u001b[39m b2a_base64(\u001b[39mself\u001b[39m\u001b[39m.\u001b[39mdata)\u001b[39m.\u001b[39mdecode(\u001b[39m'\u001b[39m\u001b[39mascii\u001b[39m\u001b[39m'\u001b[39m)\n\u001b[0;32m   1046\u001b[0m \u001b[39mexcept\u001b[39;00m \u001b[39mTypeError\u001b[39;00m \u001b[39mas\u001b[39;00m e:\n\u001b[1;32m-> 1047\u001b[0m     \u001b[39mraise\u001b[39;00m \u001b[39mFileNotFoundError\u001b[39;00m(\n\u001b[0;32m   1048\u001b[0m         \u001b[39m\"\u001b[39m\u001b[39mNo such file or directory: \u001b[39m\u001b[39m'\u001b[39m\u001b[39m%s\u001b[39;00m\u001b[39m'\u001b[39m\u001b[39m\"\u001b[39m \u001b[39m%\u001b[39m (\u001b[39mself\u001b[39m\u001b[39m.\u001b[39mdata)) \u001b[39mfrom\u001b[39;00m \u001b[39me\u001b[39;00m\n\u001b[0;32m   1049\u001b[0m md \u001b[39m=\u001b[39m {}\n\u001b[0;32m   1050\u001b[0m \u001b[39mif\u001b[39;00m \u001b[39mself\u001b[39m\u001b[39m.\u001b[39mmetadata:\n",
      "\u001b[1;31mFileNotFoundError\u001b[0m: No such file or directory: 'plasmid_circular_nice1.png'"
     ]
    },
    {
     "data": {
      "text/plain": [
       "<IPython.core.display.Image object>"
      ]
     },
     "execution_count": 20,
     "metadata": {},
     "output_type": "execute_result"
    }
   ],
   "source": [
    "Image(\"plasmid_circular_nice1.png\")"
   ]
  },
  {
   "cell_type": "markdown",
   "metadata": {},
   "source": [
    "## Thale Cress Chloroplast Genome"
   ]
  },
  {
   "cell_type": "code",
   "execution_count": 21,
   "metadata": {},
   "outputs": [
    {
     "ename": "SyntaxError",
     "evalue": "(unicode error) 'unicodeescape' codec can't decode bytes in position 5-6: malformed \\N character escape (594351641.py, line 1)",
     "output_type": "error",
     "traceback": [
      "\u001b[1;36m  Cell \u001b[1;32mIn[21], line 1\u001b[1;36m\u001b[0m\n\u001b[1;33m    record = SeqIO.read(\"\\data\\NC_000932.gb\", \"genbank\")\u001b[0m\n\u001b[1;37m                                            ^\u001b[0m\n\u001b[1;31mSyntaxError\u001b[0m\u001b[1;31m:\u001b[0m (unicode error) 'unicodeescape' codec can't decode bytes in position 5-6: malformed \\N character escape\n"
     ]
    }
   ],
   "source": [
    "record = SeqIO.read(\"NC_000932.gb\", \"genbank\")\n",
    "\n",
    "gd_diagram = GenomeDiagram.Diagram(record.id)\n",
    "gd_track_for_features = gd_diagram.new_track(1, name=\"Annotated Features\")\n",
    "gd_feature_set = gd_track_for_features.new_set()\n",
    "\n",
    "for feature in record.features:\n",
    "    if feature.type != \"gene\":\n",
    "        # Exclude this feature\n",
    "        continue\n",
    "    if len(gd_feature_set) % 2 == 0:\n",
    "        color = colors.blue\n",
    "    else:\n",
    "        color = colors.lightblue\n",
    "    gd_feature_set.add_feature(\n",
    "        feature, sigil=\"ARROW\", color=color, label=True, label_size=14, label_angle=0\n",
    "    )\n",
    "\n",
    "# I want to include some strandless features, so for an example\n",
    "# will use EcoRI recognition sites etc.\n",
    "for site, name, color in [\n",
    "    (\"GAATTC\", \"EcoRI\", colors.green),\n",
    "#     (\"CCCGGG\", \"SmaI\", colors.orange),\n",
    "#     (\"AAGCTT\", \"HindIII\", colors.red),\n",
    "#     (\"GGATCC\", \"BamHI\", colors.purple),\n",
    "]:\n",
    "    index = 0\n",
    "    while True:\n",
    "        index = record.seq.find(site, start=index)\n",
    "        if index == -1:\n",
    "            break\n",
    "        feature = SeqFeature(FeatureLocation(index, index + len(site)))\n",
    "        gd_feature_set.add_feature(\n",
    "            feature,\n",
    "            color=color,\n",
    "            name=name,\n",
    "            label=True,\n",
    "            label_size=5,\n",
    "            label_color=color,\n",
    "        )\n",
    "        index += len(site)\n",
    "\n",
    "gd_diagram.draw(format=\"linear\", pagesize=\"A4\", fragments=4, start=0, end=len(record))\n",
    "# gd_diagram.write(\"plasmid_linear_nice.svg\", \"SVG\")\n",
    "\n",
    "gd_diagram.draw(\n",
    "    format=\"circular\",\n",
    "    circular=True,\n",
    "    pagesize=(20 * cm, 20 * cm),\n",
    "    start=0,\n",
    "    end=len(record),\n",
    "    circle_core=0.5)\n",
    "\n",
    "gd_diagram.write(\"plasmid_circular_nice2.png\", \"PNG\")"
   ]
  },
  {
   "cell_type": "code",
   "execution_count": 22,
   "metadata": {},
   "outputs": [
    {
     "ename": "FileNotFoundError",
     "evalue": "No such file or directory: 'plasmid_circular_nice2.png'",
     "output_type": "error",
     "traceback": [
      "\u001b[1;31m---------------------------------------------------------------------------\u001b[0m",
      "\u001b[1;31mTypeError\u001b[0m                                 Traceback (most recent call last)",
      "File \u001b[1;32m~\\AppData\\Roaming\\Python\\Python310\\site-packages\\IPython\\core\\display.py:1045\u001b[0m, in \u001b[0;36mImage._data_and_metadata\u001b[1;34m(self, always_both)\u001b[0m\n\u001b[0;32m   1044\u001b[0m \u001b[39mtry\u001b[39;00m:\n\u001b[1;32m-> 1045\u001b[0m     b64_data \u001b[39m=\u001b[39m b2a_base64(\u001b[39mself\u001b[39;49m\u001b[39m.\u001b[39;49mdata)\u001b[39m.\u001b[39mdecode(\u001b[39m'\u001b[39m\u001b[39mascii\u001b[39m\u001b[39m'\u001b[39m)\n\u001b[0;32m   1046\u001b[0m \u001b[39mexcept\u001b[39;00m \u001b[39mTypeError\u001b[39;00m \u001b[39mas\u001b[39;00m e:\n",
      "\u001b[1;31mTypeError\u001b[0m: a bytes-like object is required, not 'str'",
      "\nThe above exception was the direct cause of the following exception:\n",
      "\u001b[1;31mFileNotFoundError\u001b[0m                         Traceback (most recent call last)",
      "File \u001b[1;32m~\\AppData\\Roaming\\Python\\Python310\\site-packages\\IPython\\core\\formatters.py:972\u001b[0m, in \u001b[0;36mMimeBundleFormatter.__call__\u001b[1;34m(self, obj, include, exclude)\u001b[0m\n\u001b[0;32m    969\u001b[0m     method \u001b[39m=\u001b[39m get_real_method(obj, \u001b[39mself\u001b[39m\u001b[39m.\u001b[39mprint_method)\n\u001b[0;32m    971\u001b[0m     \u001b[39mif\u001b[39;00m method \u001b[39mis\u001b[39;00m \u001b[39mnot\u001b[39;00m \u001b[39mNone\u001b[39;00m:\n\u001b[1;32m--> 972\u001b[0m         \u001b[39mreturn\u001b[39;00m method(include\u001b[39m=\u001b[39;49minclude, exclude\u001b[39m=\u001b[39;49mexclude)\n\u001b[0;32m    973\u001b[0m     \u001b[39mreturn\u001b[39;00m \u001b[39mNone\u001b[39;00m\n\u001b[0;32m    974\u001b[0m \u001b[39melse\u001b[39;00m:\n",
      "File \u001b[1;32m~\\AppData\\Roaming\\Python\\Python310\\site-packages\\IPython\\core\\display.py:1035\u001b[0m, in \u001b[0;36mImage._repr_mimebundle_\u001b[1;34m(self, include, exclude)\u001b[0m\n\u001b[0;32m   1033\u001b[0m \u001b[39mif\u001b[39;00m \u001b[39mself\u001b[39m\u001b[39m.\u001b[39membed:\n\u001b[0;32m   1034\u001b[0m     mimetype \u001b[39m=\u001b[39m \u001b[39mself\u001b[39m\u001b[39m.\u001b[39m_mimetype\n\u001b[1;32m-> 1035\u001b[0m     data, metadata \u001b[39m=\u001b[39m \u001b[39mself\u001b[39;49m\u001b[39m.\u001b[39;49m_data_and_metadata(always_both\u001b[39m=\u001b[39;49m\u001b[39mTrue\u001b[39;49;00m)\n\u001b[0;32m   1036\u001b[0m     \u001b[39mif\u001b[39;00m metadata:\n\u001b[0;32m   1037\u001b[0m         metadata \u001b[39m=\u001b[39m {mimetype: metadata}\n",
      "File \u001b[1;32m~\\AppData\\Roaming\\Python\\Python310\\site-packages\\IPython\\core\\display.py:1047\u001b[0m, in \u001b[0;36mImage._data_and_metadata\u001b[1;34m(self, always_both)\u001b[0m\n\u001b[0;32m   1045\u001b[0m     b64_data \u001b[39m=\u001b[39m b2a_base64(\u001b[39mself\u001b[39m\u001b[39m.\u001b[39mdata)\u001b[39m.\u001b[39mdecode(\u001b[39m'\u001b[39m\u001b[39mascii\u001b[39m\u001b[39m'\u001b[39m)\n\u001b[0;32m   1046\u001b[0m \u001b[39mexcept\u001b[39;00m \u001b[39mTypeError\u001b[39;00m \u001b[39mas\u001b[39;00m e:\n\u001b[1;32m-> 1047\u001b[0m     \u001b[39mraise\u001b[39;00m \u001b[39mFileNotFoundError\u001b[39;00m(\n\u001b[0;32m   1048\u001b[0m         \u001b[39m\"\u001b[39m\u001b[39mNo such file or directory: \u001b[39m\u001b[39m'\u001b[39m\u001b[39m%s\u001b[39;00m\u001b[39m'\u001b[39m\u001b[39m\"\u001b[39m \u001b[39m%\u001b[39m (\u001b[39mself\u001b[39m\u001b[39m.\u001b[39mdata)) \u001b[39mfrom\u001b[39;00m \u001b[39me\u001b[39;00m\n\u001b[0;32m   1049\u001b[0m md \u001b[39m=\u001b[39m {}\n\u001b[0;32m   1050\u001b[0m \u001b[39mif\u001b[39;00m \u001b[39mself\u001b[39m\u001b[39m.\u001b[39mmetadata:\n",
      "\u001b[1;31mFileNotFoundError\u001b[0m: No such file or directory: 'plasmid_circular_nice2.png'"
     ]
    },
    {
     "ename": "FileNotFoundError",
     "evalue": "No such file or directory: 'plasmid_circular_nice2.png'",
     "output_type": "error",
     "traceback": [
      "\u001b[1;31m---------------------------------------------------------------------------\u001b[0m",
      "\u001b[1;31mTypeError\u001b[0m                                 Traceback (most recent call last)",
      "File \u001b[1;32m~\\AppData\\Roaming\\Python\\Python310\\site-packages\\IPython\\core\\display.py:1045\u001b[0m, in \u001b[0;36mImage._data_and_metadata\u001b[1;34m(self, always_both)\u001b[0m\n\u001b[0;32m   1044\u001b[0m \u001b[39mtry\u001b[39;00m:\n\u001b[1;32m-> 1045\u001b[0m     b64_data \u001b[39m=\u001b[39m b2a_base64(\u001b[39mself\u001b[39;49m\u001b[39m.\u001b[39;49mdata)\u001b[39m.\u001b[39mdecode(\u001b[39m'\u001b[39m\u001b[39mascii\u001b[39m\u001b[39m'\u001b[39m)\n\u001b[0;32m   1046\u001b[0m \u001b[39mexcept\u001b[39;00m \u001b[39mTypeError\u001b[39;00m \u001b[39mas\u001b[39;00m e:\n",
      "\u001b[1;31mTypeError\u001b[0m: a bytes-like object is required, not 'str'",
      "\nThe above exception was the direct cause of the following exception:\n",
      "\u001b[1;31mFileNotFoundError\u001b[0m                         Traceback (most recent call last)",
      "File \u001b[1;32m~\\AppData\\Roaming\\Python\\Python310\\site-packages\\IPython\\core\\formatters.py:342\u001b[0m, in \u001b[0;36mBaseFormatter.__call__\u001b[1;34m(self, obj)\u001b[0m\n\u001b[0;32m    340\u001b[0m     method \u001b[39m=\u001b[39m get_real_method(obj, \u001b[39mself\u001b[39m\u001b[39m.\u001b[39mprint_method)\n\u001b[0;32m    341\u001b[0m     \u001b[39mif\u001b[39;00m method \u001b[39mis\u001b[39;00m \u001b[39mnot\u001b[39;00m \u001b[39mNone\u001b[39;00m:\n\u001b[1;32m--> 342\u001b[0m         \u001b[39mreturn\u001b[39;00m method()\n\u001b[0;32m    343\u001b[0m     \u001b[39mreturn\u001b[39;00m \u001b[39mNone\u001b[39;00m\n\u001b[0;32m    344\u001b[0m \u001b[39melse\u001b[39;00m:\n",
      "File \u001b[1;32m~\\AppData\\Roaming\\Python\\Python310\\site-packages\\IPython\\core\\display.py:1067\u001b[0m, in \u001b[0;36mImage._repr_png_\u001b[1;34m(self)\u001b[0m\n\u001b[0;32m   1065\u001b[0m \u001b[39mdef\u001b[39;00m \u001b[39m_repr_png_\u001b[39m(\u001b[39mself\u001b[39m):\n\u001b[0;32m   1066\u001b[0m     \u001b[39mif\u001b[39;00m \u001b[39mself\u001b[39m\u001b[39m.\u001b[39membed \u001b[39mand\u001b[39;00m \u001b[39mself\u001b[39m\u001b[39m.\u001b[39mformat \u001b[39m==\u001b[39m \u001b[39mself\u001b[39m\u001b[39m.\u001b[39m_FMT_PNG:\n\u001b[1;32m-> 1067\u001b[0m         \u001b[39mreturn\u001b[39;00m \u001b[39mself\u001b[39;49m\u001b[39m.\u001b[39;49m_data_and_metadata()\n",
      "File \u001b[1;32m~\\AppData\\Roaming\\Python\\Python310\\site-packages\\IPython\\core\\display.py:1047\u001b[0m, in \u001b[0;36mImage._data_and_metadata\u001b[1;34m(self, always_both)\u001b[0m\n\u001b[0;32m   1045\u001b[0m     b64_data \u001b[39m=\u001b[39m b2a_base64(\u001b[39mself\u001b[39m\u001b[39m.\u001b[39mdata)\u001b[39m.\u001b[39mdecode(\u001b[39m'\u001b[39m\u001b[39mascii\u001b[39m\u001b[39m'\u001b[39m)\n\u001b[0;32m   1046\u001b[0m \u001b[39mexcept\u001b[39;00m \u001b[39mTypeError\u001b[39;00m \u001b[39mas\u001b[39;00m e:\n\u001b[1;32m-> 1047\u001b[0m     \u001b[39mraise\u001b[39;00m \u001b[39mFileNotFoundError\u001b[39;00m(\n\u001b[0;32m   1048\u001b[0m         \u001b[39m\"\u001b[39m\u001b[39mNo such file or directory: \u001b[39m\u001b[39m'\u001b[39m\u001b[39m%s\u001b[39;00m\u001b[39m'\u001b[39m\u001b[39m\"\u001b[39m \u001b[39m%\u001b[39m (\u001b[39mself\u001b[39m\u001b[39m.\u001b[39mdata)) \u001b[39mfrom\u001b[39;00m \u001b[39me\u001b[39;00m\n\u001b[0;32m   1049\u001b[0m md \u001b[39m=\u001b[39m {}\n\u001b[0;32m   1050\u001b[0m \u001b[39mif\u001b[39;00m \u001b[39mself\u001b[39m\u001b[39m.\u001b[39mmetadata:\n",
      "\u001b[1;31mFileNotFoundError\u001b[0m: No such file or directory: 'plasmid_circular_nice2.png'"
     ]
    },
    {
     "data": {
      "text/plain": [
       "<IPython.core.display.Image object>"
      ]
     },
     "execution_count": 22,
     "metadata": {},
     "output_type": "execute_result"
    }
   ],
   "source": [
    "Image(\"plasmid_circular_nice2.png\")"
   ]
  },
  {
   "cell_type": "markdown",
   "metadata": {},
   "source": [
    "## Covid-19 Base Genome"
   ]
  },
  {
   "cell_type": "code",
   "execution_count": 19,
   "metadata": {},
   "outputs": [],
   "source": [
    "record = SeqIO.read(\"NC_045512.2.fna\", \"fasta\")\n",
    "\n",
    "gd_diagram = GenomeDiagram.Diagram(record.id)\n",
    "gd_track_for_features = gd_diagram.new_track(1, name=\"Annotated Features\")\n",
    "gd_feature_set = gd_track_for_features.new_set()\n",
    "\n",
    "for feature in record.features:\n",
    "    if feature.type != \"gene\":\n",
    "        # Exclude this feature\n",
    "        continue\n",
    "    if len(gd_feature_set) % 2 == 0:\n",
    "        color = colors.blue\n",
    "    else:\n",
    "        color = colors.lightblue\n",
    "    gd_feature_set.add_feature(\n",
    "        feature, sigil=\"ARROW\", color=color, label=True, label_size=14, label_angle=0\n",
    "    )\n",
    "\n",
    "# I want to include some strandless features, so for an example\n",
    "# will use EcoRI recognition sites etc.\n",
    "for site, name, color in [\n",
    "    (\"GAATTC\", \"EcoRI\", colors.green),\n",
    "    (\"CCCGGG\", \"SmaI\", colors.orange),\n",
    "    (\"AAGCTT\", \"HindIII\", colors.red),\n",
    "    (\"GGATCC\", \"BamHI\", colors.purple),\n",
    "]:\n",
    "    index = 0\n",
    "    while True:\n",
    "        index = record.seq.find(site, start=index)\n",
    "        if index == -1:\n",
    "            break\n",
    "        feature = SeqFeature(FeatureLocation(index, index + len(site)))\n",
    "        gd_feature_set.add_feature(\n",
    "            feature,\n",
    "            color=color,\n",
    "            name=name,\n",
    "            label=True,\n",
    "            label_size=5,\n",
    "            label_color=color,\n",
    "        )\n",
    "        index += len(site)\n",
    "\n",
    "gd_diagram.draw(format=\"linear\", pagesize=\"A4\", fragments=4, start=0, end=len(record))\n",
    "gd_diagram.write(\"covid.png\", \"PNG\")\n",
    "\n",
    "# gd_diagram.draw(\n",
    "#     format=\"circular\",\n",
    "#     circular=True,\n",
    "#     pagesize=(20 * cm, 20 * cm),\n",
    "#     start=0,\n",
    "#     end=len(record),\n",
    "#     circle_core=0.5)\n",
    "\n",
    "# gd_diagram.write(\"covid.png\", \"PNG\")"
   ]
  },
  {
   "cell_type": "code",
   "execution_count": 20,
   "metadata": {},
   "outputs": [
    {
     "data": {
      "image/png": "[encoded data removed]",
      "text/plain": [
       "<IPython.core.display.Image object>"
      ]
     },
     "execution_count": 20,
     "metadata": {},
     "output_type": "execute_result"
    }
   ],
   "source": [
    "Image(\"covid.png\")"
   ]
  }
 ],
 "metadata": {
  "kernelspec": {
   "display_name": "Python 3",
   "language": "python",
   "name": "python3"
  },
  "language_info": {
   "codemirror_mode": {
    "name": "ipython",
    "version": 3
   },
   "file_extension": ".py",
   "mimetype": "text/x-python",
   "name": "python",
   "nbconvert_exporter": "python",
   "pygments_lexer": "ipython3",
   "version": "3.10.10"
  },
  "toc": {
   "base_numbering": 1,
   "nav_menu": {},
   "number_sections": true,
   "sideBar": true,
   "skip_h1_title": false,
   "title_cell": "Table of Contents",
   "title_sidebar": "Contents",
   "toc_cell": false,
   "toc_position": {},
   "toc_section_display": true,
   "toc_window_display": false
  }
 },
 "nbformat": 4,
 "nbformat_minor": 4
}
