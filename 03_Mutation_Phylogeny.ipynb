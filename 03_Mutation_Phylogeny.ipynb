{
 "cells": [
  {
   "cell_type": "code",
   "execution_count": 2,
   "metadata": {},
   "outputs": [
    {
     "name": "stdout",
     "output_type": "stream",
     "text": [
      "Alignment with 5 rows and 13 columns\n",
      "AACGTGGCCACAT Alpha\n",
      "AAGGTCGCCACAC Beta\n",
      "CAGTTCGCCACAA Gamma\n",
      "GAGATTTCCGCCT Delta\n",
      "GAGATCTCCGCCC Epsilon\n",
      "\n",
      "Distance Matrix\n",
      "===================\n",
      "Alpha   0.000000\n",
      "Beta    0.230769    0.000000\n",
      "Gamma   0.384615    0.230769    0.000000\n",
      "Delta   0.538462    0.538462    0.538462    0.000000\n",
      "Epsilon 0.615385    0.384615    0.461538    0.153846    0.000000\n",
      "    Alpha   Beta    Gamma   Delta   Epsilon\n"
     ]
    },
    {
     "data": {
      "image/png": "[encoded data removed]",
      "text/plain": [
       "<Figure size 640x480 with 1 Axes>"
      ]
     },
     "metadata": {},
     "output_type": "display_data"
    },
    {
     "name": "stdout",
     "output_type": "stream",
     "text": [
      "\n",
      "Phylogenetic Tree\n",
      "===================\n",
      "                                                  ____________________ Epsilon\n",
      "  _______________________________________________|\n",
      " |                                               |____________________ Delta\n",
      "_|\n",
      " |                                      ______________________________ Gamma\n",
      " |                            _________|\n",
      " |___________________________|         |______________________________ Beta\n",
      "                             |\n",
      "                             |________________________________________ Alpha\n",
      "\n"
     ]
    }
   ],
   "source": [
    "# Import modules\n",
    "from Bio import Phylo\n",
    "from Bio.Phylo.TreeConstruction import DistanceCalculator\n",
    "from Bio.Phylo.TreeConstruction import DistanceTreeConstructor\n",
    "from Bio import AlignIO\n",
    "\n",
    "# Read the sequences and align\n",
    "aln = AlignIO.read('msa1.phy', 'phylip')\n",
    "\n",
    "# Print the alignment\n",
    "print(aln)\n",
    "\n",
    "# Calculate the distance matrix\n",
    "calculator = DistanceCalculator('identity')\n",
    "dm = calculator.get_distance(aln)\n",
    "\n",
    "# Print the distance Matrix\n",
    "print('\\nDistance Matrix\\n===================')\n",
    "print(dm)\n",
    "\n",
    "# Construct the phylogenetic tree using UPGMA algorithm\n",
    "constructor = DistanceTreeConstructor()\n",
    "tree = constructor.upgma(dm)\n",
    "\n",
    "# Draw the phylogenetic tree\n",
    "Phylo.draw(tree)\n",
    "\n",
    "# Print the phylogenetic tree in the terminal\n",
    "print('\\nPhylogenetic Tree\\n===================')\n",
    "Phylo.draw_ascii(tree)"
   ]
  },
  {
   "cell_type": "code",
   "execution_count": null,
   "metadata": {},
   "outputs": [],
   "source": []
  }
 ],
 "metadata": {
  "kernelspec": {
   "display_name": "Python 3",
   "language": "python",
   "name": "python3"
  },
  "language_info": {
   "codemirror_mode": {
    "name": "ipython",
    "version": 3
   },
   "file_extension": ".py",
   "mimetype": "text/x-python",
   "name": "python",
   "nbconvert_exporter": "python",
   "pygments_lexer": "ipython3",
   "version": "3.10.10"
  },
  "toc": {
   "base_numbering": 1,
   "nav_menu": {},
   "number_sections": true,
   "sideBar": true,
   "skip_h1_title": false,
   "title_cell": "Table of Contents",
   "title_sidebar": "Contents",
   "toc_cell": false,
   "toc_position": {},
   "toc_section_display": true,
   "toc_window_display": false
  }
 },
 "nbformat": 4,
 "nbformat_minor": 4
}
