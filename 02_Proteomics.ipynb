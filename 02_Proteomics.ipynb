{
 "cells": [
  {
   "cell_type": "markdown",
   "id": "confirmed-flashing",
   "metadata": {},
   "source": [
    "# Proteomics"
   ]
  },
  {
   "cell_type": "markdown",
   "id": "planned-confirmation",
   "metadata": {},
   "source": [
    "# Libraries to Import"
   ]
  },
  {
   "cell_type": "markdown",
   "id": "indonesian-hollywood",
   "metadata": {},
   "source": [
    "Be sure to activate the \"biopython\" conda environment."
   ]
  },
  {
   "cell_type": "code",
   "execution_count": 1,
   "id": "weekly-cassette",
   "metadata": {},
   "outputs": [],
   "source": [
    "# !jupyter-nbextension enable nglview --py --sys-prefix"
   ]
  },
  {
   "cell_type": "code",
   "execution_count": 1,
   "id": "engaged-ecology",
   "metadata": {},
   "outputs": [
    {
     "data": {
      "application/vnd.jupyter.widget-view+json": {
       "model_id": "6b3cb79ea84f4b4eb6ffedc24c3d49c6",
       "version_major": 2,
       "version_minor": 0
      },
      "text/plain": []
     },
     "metadata": {},
     "output_type": "display_data"
    }
   ],
   "source": [
    "from Bio.PDB import *\n",
    "from Bio.SeqUtils.ProtParam import ProteinAnalysis\n",
    "from Bio.SeqUtils.ProtParam import ProtParamData\n",
    "import nglview as nv\n",
    "import ipywidgets\n",
    "\n",
    "import warnings\n",
    "warnings.filterwarnings('ignore')"
   ]
  },
  {
   "cell_type": "markdown",
   "id": "nonprofit-million",
   "metadata": {},
   "source": [
    "# Using the PDB (Protein Data Bank) File Format"
   ]
  },
  {
   "cell_type": "code",
   "execution_count": 2,
   "id": "freelance-quilt",
   "metadata": {},
   "outputs": [],
   "source": [
    "parser = PDBParser()"
   ]
  },
  {
   "cell_type": "code",
   "execution_count": 3,
   "id": "burning-junior",
   "metadata": {},
   "outputs": [],
   "source": [
    "structure = parser.get_structure(\"PHA-L\", \"Data/1FAT.pdb\")"
   ]
  },
  {
   "cell_type": "code",
   "execution_count": 4,
   "id": "maritime-washington",
   "metadata": {},
   "outputs": [
    {
     "data": {
      "application/vnd.jupyter.widget-view+json": {
       "model_id": "5d4438ffb4ef4f2d81f50e3b66ed69c9",
       "version_major": 2,
       "version_minor": 0
      },
      "text/plain": [
       "NGLWidget()"
      ]
     },
     "metadata": {},
     "output_type": "display_data"
    }
   ],
   "source": [
    "view = nv.show_biopython(structure)\n",
    "view"
   ]
  },
  {
   "cell_type": "markdown",
   "id": "annoying-split",
   "metadata": {},
   "source": [
    "# Using the CIF (Crystallographic Information File) File Format"
   ]
  },
  {
   "cell_type": "code",
   "execution_count": 5,
   "id": "mechanical-sperm",
   "metadata": {},
   "outputs": [],
   "source": [
    "parser = MMCIFParser()"
   ]
  },
  {
   "cell_type": "code",
   "execution_count": 6,
   "id": "lesbian-pottery",
   "metadata": {},
   "outputs": [],
   "source": [
    "structure = parser.get_structure(\"PHA-L\", \"fa/1fat.cif\")"
   ]
  },
  {
   "cell_type": "code",
   "execution_count": 39,
   "id": "moved-china",
   "metadata": {},
   "outputs": [
    {
     "data": {
      "application/vnd.jupyter.widget-view+json": {
       "model_id": "14049c9dc10d4abfa2b3740db05c7e36",
       "version_major": 2,
       "version_minor": 0
      },
      "text/plain": [
       "NGLWidget()"
      ]
     },
     "metadata": {},
     "output_type": "display_data"
    }
   ],
   "source": [
    "view = nv.show_biopython(structure)\n",
    "view"
   ]
  },
  {
   "cell_type": "code",
   "execution_count": 8,
   "id": "nominated-junior",
   "metadata": {},
   "outputs": [],
   "source": [
    "structure2 = parser.get_structure(\"K\", \"fa/6ebk.cif\")"
   ]
  },
  {
   "cell_type": "code",
   "execution_count": 9,
   "id": "homeless-cherry",
   "metadata": {},
   "outputs": [
    {
     "data": {
      "application/vnd.jupyter.widget-view+json": {
       "model_id": "bbb6239283a34fa284272fa3dedb8f2c",
       "version_major": 2,
       "version_minor": 0
      },
      "text/plain": [
       "NGLWidget()"
      ]
     },
     "metadata": {},
     "output_type": "display_data"
    }
   ],
   "source": [
    "view2 = nv.show_biopython(structure2)\n",
    "view2"
   ]
  },
  {
   "cell_type": "markdown",
   "id": "unique-middle",
   "metadata": {},
   "source": [
    "# Diving into the Header Information"
   ]
  },
  {
   "cell_type": "code",
   "execution_count": 10,
   "id": "becoming-audit",
   "metadata": {},
   "outputs": [],
   "source": [
    "mmcif_dict = MMCIF2Dict.MMCIF2Dict(\"fa/1fat.cif\")"
   ]
  },
  {
   "cell_type": "code",
   "execution_count": 12,
   "id": "liquid-directory",
   "metadata": {
    "scrolled": false
   },
   "outputs": [],
   "source": [
    "# list(mmcif_dict.keys())"
   ]
  },
  {
   "cell_type": "markdown",
   "id": "intense-expense",
   "metadata": {},
   "source": [
    "**What’s the overall layout of a Structure object?**\n",
    "\n",
    "The Structure object follows the so-called SMCRA (Structure/Model/Chain/Residue/Atom) architecture :\n",
    "\n",
    "- A structure consists of models\n",
    "- A model consists of chains\n",
    "- A chain consists of residues\n",
    "- A residue consists of atoms"
   ]
  },
  {
   "cell_type": "markdown",
   "id": "portable-opposition",
   "metadata": {},
   "source": [
    "**Accessing Residue Sequence**\n",
    "\n",
    "The above molecule has 4 major models, which is represented below when resseq (Residue Sequence) resets for each model."
   ]
  },
  {
   "cell_type": "code",
   "execution_count": 13,
   "id": "universal-northern",
   "metadata": {},
   "outputs": [],
   "source": [
    "# Iterate over all residues in a model\n",
    "# for model in structure:\n",
    "#     for residue in model.get_residues():\n",
    "#         print(residue)"
   ]
  },
  {
   "cell_type": "code",
   "execution_count": 11,
   "id": "secret-monster",
   "metadata": {},
   "outputs": [],
   "source": [
    "residues = structure.get_residues() # returns a generator object"
   ]
  },
  {
   "cell_type": "code",
   "execution_count": 15,
   "id": "liked-tissue",
   "metadata": {},
   "outputs": [],
   "source": [
    "# [item for item in residues]"
   ]
  },
  {
   "cell_type": "code",
   "execution_count": 12,
   "id": "basic-enforcement",
   "metadata": {},
   "outputs": [],
   "source": [
    "res_list = Selection.unfold_entities(structure, \"R\")"
   ]
  },
  {
   "cell_type": "markdown",
   "id": "confident-looking",
   "metadata": {},
   "source": [
    "**Polypeptide Builder**\n",
    "\n",
    "Peptides are characterized by start codons, a sequence of length N, and a stop codon, hence why 4 models can be comprised of 7 chains. You can see the 4 major chains comprising the above structure as well as 3 linking chains."
   ]
  },
  {
   "cell_type": "code",
   "execution_count": 13,
   "id": "alert-population",
   "metadata": {},
   "outputs": [
    {
     "name": "stdout",
     "output_type": "stream",
     "text": [
      "Sequence: 1, Length: 36\n",
      "SNDIYFNFQRFNETNLILQRDASVSSSGQLRLTNLN\n",
      "Sequence: 2, Length: 196\n",
      "NGEPRVGSLGRAFYSAPIQIWDNTTGTVASFATSFTFNIQVPNNAGPADGLAFALVPVGSQPKDKGGFLGLFDGSNSNFHTVAVEFDTLYNKDWDPTERHIGIDVNSIRSIKTTRWDFVNGENAEVLITYDSSTNLLVASLVYPSQKTSFIVSDTVDLKSVLPEWVSVGFSATTGINKGNVETNDVLSWSFASKLS\n",
      "Sequence: 3, Length: 233\n",
      "SNDIYFNFQRFNETNLILQRDASVSSSGQLRLTNLNGNGEPRVGSLGRAFYSAPIQIWDNTTGTVASFATSFTFNIQVPNNAGPADGLAFALVPVGSQPKDKGGFLGLFDGSNSNFHTVAVEFDTLYNKDWDPTERHIGIDVNSIRSIKTTRWDFVNGENAEVLITYDSSTNLLVASLVYPSQKTSFIVSDTVDLKSVLPEWVSVGFSATTGINKGNVETNDVLSWSFASKLS\n",
      "Sequence: 4, Length: 36\n",
      "SNDIYFNFQRFNETNLILQRDASVSSSGQLRLTNLN\n",
      "Sequence: 5, Length: 196\n",
      "NGEPRVGSLGRAFYSAPIQIWDNTTGTVASFATSFTFNIQVPNNAGPADGLAFALVPVGSQPKDKGGFLGLFDGSNSNFHTVAVEFDTLYNKDWDPTERHIGIDVNSIRSIKTTRWDFVNGENAEVLITYDSSTNLLVASLVYPSQKTSFIVSDTVDLKSVLPEWVSVGFSATTGINKGNVETNDVLSWSFASKLS\n",
      "Sequence: 6, Length: 35\n",
      "SNDIYFNFQRFNETNLILQRDASVSSSGQLRLTNL\n",
      "Sequence: 7, Length: 196\n",
      "NGEPRVGSLGRAFYSAPIQIWDNTTGTVASFATSFTFNIQVPNNAGPADGLAFALVPVGSQPKDKGGFLGLFDGSNSNFHTVAVEFDTLYNKDWDPTERHIGIDVNSIRSIKTTRWDFVNGENAEVLITYDSSTNLLVASLVYPSQKTSFIVSDTVDLKSVLPEWVSVGFSATTGINKGNVETNDVLSWSFASKLS\n"
     ]
    }
   ],
   "source": [
    "# Using CA-CA\n",
    "ppb = CaPPBuilder()\n",
    "counter = 1\n",
    "for pp in ppb.build_peptides(structure):\n",
    "    seq = pp.get_sequence()\n",
    "    print(f\"Sequence: {counter}, Length: {len(seq)}\")\n",
    "    print(seq)\n",
    "    counter += 1"
   ]
  },
  {
   "cell_type": "markdown",
   "id": "sexual-cowboy",
   "metadata": {},
   "source": [
    "With our different chains, we can run protein analysis methods from ProteinAnalysis and store the results in a dict.\n",
    "\n",
    "Protein scale analysis is omitted due to the number of scales that can be examined for. One should run scale analysis ad hoc as detailed below."
   ]
  },
  {
   "cell_type": "code",
   "execution_count": 14,
   "id": "sustainable-reservation",
   "metadata": {},
   "outputs": [],
   "source": [
    "# Define parser and get structure from file\n",
    "parser = MMCIFParser()\n",
    "structure = parser.get_structure(\"PHA-L\", \"fa/1fat.cif\")\n",
    "\n",
    "# Define polypeptide builder\n",
    "ppb = CaPPBuilder()\n",
    "\n",
    "# Create empty list for chains\n",
    "all_seqs = []\n",
    "counter = 1\n",
    "\n",
    "# For each polypeptide in the structure, run protein analysis methods and store in dict\n",
    "for pp in ppb.build_peptides(structure):\n",
    "    seq_info = {}\n",
    "    seq = pp.get_sequence()\n",
    "    analyzed_seq = ProteinAnalysis(str(seq)) # needs to be a str\n",
    "\n",
    "    seq_info['Sequence Number'] = counter # set sequence id\n",
    "    seq_info['Sequence'] = seq # store Seq() object\n",
    "    seq_info['Sequence Length'] = len(seq) # length of seq\n",
    "    seq_info['Molecular Weight'] = round(analyzed_seq.molecular_weight(), 2) # mol weight\n",
    "    seq_info['GRAVY'] = round(analyzed_seq.gravy(), 4) # average hydrophobicity\n",
    "    seq_info['Amino Acid Count'] = analyzed_seq.count_amino_acids() # count residues\n",
    "    seq_info['Amino Acid Percent'] = analyzed_seq.get_amino_acids_percent() # normalized count\n",
    "    seq_info['Secondary Structure'] = analyzed_seq.secondary_structure_fraction() # helix, turn, sheet\n",
    "    \n",
    "    # Update all_seqs list and increase counter\n",
    "    all_seqs.append(seq_info)\n",
    "    counter += 1"
   ]
  },
  {
   "cell_type": "markdown",
   "id": "fifty-connection",
   "metadata": {},
   "source": [
    "Now we have a list of dicts that can be indexed to select information easily. "
   ]
  },
  {
   "cell_type": "code",
   "execution_count": 15,
   "id": "arctic-wagon",
   "metadata": {},
   "outputs": [
    {
     "data": {
      "text/plain": [
       "4176.52"
      ]
     },
     "execution_count": 15,
     "metadata": {},
     "output_type": "execute_result"
    }
   ],
   "source": [
    "all_seqs[0]['Molecular Weight']"
   ]
  },
  {
   "cell_type": "markdown",
   "id": "contrary-tattoo",
   "metadata": {},
   "source": [
    "We can also perform protein analysis ad-hoc from stored sequences in the dict."
   ]
  },
  {
   "cell_type": "code",
   "execution_count": 17,
   "id": "veterinary-mentor",
   "metadata": {},
   "outputs": [],
   "source": [
    "seq1 = all_seqs[0]['Sequence']"
   ]
  },
  {
   "cell_type": "markdown",
   "id": "blessed-slovak",
   "metadata": {},
   "source": [
    "A note here though is that ProteinAnalysis() requires a string of the sequence, not a Seq() object. Biopython has an overloaded str() method that can retrieve the raw string from the Seq() object.  "
   ]
  },
  {
   "cell_type": "code",
   "execution_count": 18,
   "id": "wicked-commitment",
   "metadata": {},
   "outputs": [],
   "source": [
    "analysed_seq = ProteinAnalysis(str(seq1))"
   ]
  },
  {
   "cell_type": "markdown",
   "id": "induced-stylus",
   "metadata": {},
   "source": [
    "**Molecular Weight**"
   ]
  },
  {
   "cell_type": "code",
   "execution_count": 19,
   "id": "located-circumstances",
   "metadata": {},
   "outputs": [
    {
     "data": {
      "text/plain": [
       "4176.516699999999"
      ]
     },
     "execution_count": 19,
     "metadata": {},
     "output_type": "execute_result"
    }
   ],
   "source": [
    "analysed_seq.molecular_weight()"
   ]
  },
  {
   "cell_type": "markdown",
   "id": "united-increase",
   "metadata": {},
   "source": [
    "**Gravy**\n",
    "\n",
    "> Protein GRAVY returns the GRAVY (grand average of hydropathy) value for the protein sequences you enter. The GRAVY value is calculated by adding the hydropathy value for each residue and dividing by the length of the sequence (Kyte and Doolittle; 1982).\n",
    "\n",
    "A higher value is increased hydrophobicity.\n",
    "\n",
    "[Source](https://pubmed.ncbi.nlm.nih.gov/7108955/):\n",
    "Kyte J, Doolittle RF (May 1983). \"A simple method for displaying the hydropathic character of a protein\". J. Mol. Biol. 157 (1): 105–32. PMID 7108955"
   ]
  },
  {
   "cell_type": "code",
   "execution_count": 20,
   "id": "affecting-transfer",
   "metadata": {},
   "outputs": [
    {
     "data": {
      "text/plain": [
       "-0.561111111111111"
      ]
     },
     "execution_count": 20,
     "metadata": {},
     "output_type": "execute_result"
    }
   ],
   "source": [
    "analysed_seq.gravy()"
   ]
  },
  {
   "cell_type": "markdown",
   "id": "attended-andrews",
   "metadata": {},
   "source": [
    "**Amino Acid Count**"
   ]
  },
  {
   "cell_type": "code",
   "execution_count": 22,
   "id": "hazardous-grave",
   "metadata": {
    "scrolled": true
   },
   "outputs": [
    {
     "data": {
      "text/plain": [
       "{'A': 1,\n",
       " 'C': 0,\n",
       " 'D': 2,\n",
       " 'E': 1,\n",
       " 'F': 3,\n",
       " 'G': 1,\n",
       " 'H': 0,\n",
       " 'I': 2,\n",
       " 'K': 0,\n",
       " 'L': 5,\n",
       " 'M': 0,\n",
       " 'N': 6,\n",
       " 'P': 0,\n",
       " 'Q': 3,\n",
       " 'R': 3,\n",
       " 'S': 5,\n",
       " 'T': 2,\n",
       " 'V': 1,\n",
       " 'W': 0,\n",
       " 'Y': 1}"
      ]
     },
     "execution_count": 22,
     "metadata": {},
     "output_type": "execute_result"
    }
   ],
   "source": [
    "analysed_seq.count_amino_acids()"
   ]
  },
  {
   "cell_type": "markdown",
   "id": "failing-timeline",
   "metadata": {},
   "source": [
    "**Amino Acid Percentage**"
   ]
  },
  {
   "cell_type": "code",
   "execution_count": 23,
   "id": "fleet-scholarship",
   "metadata": {},
   "outputs": [
    {
     "data": {
      "text/plain": [
       "{'A': 0.027777777777777776,\n",
       " 'C': 0.0,\n",
       " 'D': 0.05555555555555555,\n",
       " 'E': 0.027777777777777776,\n",
       " 'F': 0.08333333333333333,\n",
       " 'G': 0.027777777777777776,\n",
       " 'H': 0.0,\n",
       " 'I': 0.05555555555555555,\n",
       " 'K': 0.0,\n",
       " 'L': 0.1388888888888889,\n",
       " 'M': 0.0,\n",
       " 'N': 0.16666666666666666,\n",
       " 'P': 0.0,\n",
       " 'Q': 0.08333333333333333,\n",
       " 'R': 0.08333333333333333,\n",
       " 'S': 0.1388888888888889,\n",
       " 'T': 0.05555555555555555,\n",
       " 'V': 0.027777777777777776,\n",
       " 'W': 0.0,\n",
       " 'Y': 0.027777777777777776}"
      ]
     },
     "execution_count": 23,
     "metadata": {},
     "output_type": "execute_result"
    }
   ],
   "source": [
    "analysed_seq.get_amino_acids_percent()"
   ]
  },
  {
   "cell_type": "markdown",
   "id": "threatened-programmer",
   "metadata": {},
   "source": [
    "**Secondary Structure**\n",
    "\n",
    "Returns a tuple of (helix, turn, sheet) percentage. Note that not all residues belong to a secondary structure, hence why the sum(fractions) != 1"
   ]
  },
  {
   "cell_type": "code",
   "execution_count": 24,
   "id": "russian-jacob",
   "metadata": {},
   "outputs": [
    {
     "data": {
      "text/plain": [
       "(0.3333333333333333, 0.3333333333333333, 0.19444444444444445)"
      ]
     },
     "execution_count": 24,
     "metadata": {},
     "output_type": "execute_result"
    }
   ],
   "source": [
    "analysed_seq.secondary_structure_fraction() # helix, turn, sheet"
   ]
  },
  {
   "cell_type": "markdown",
   "id": "stuck-hygiene",
   "metadata": {},
   "source": [
    "**Protein Scales**"
   ]
  },
  {
   "cell_type": "markdown",
   "id": "clean-cattle",
   "metadata": {},
   "source": [
    "Scales are located [here](https://github.com/biopython/biopython/blob/master/Bio/SeqUtils/ProtParamData.py#L6).\n",
    "\n",
    "- Kyte & Doolittle index of hydrophobicity --> kd\n",
    "- Normalized flexibility parameters (B-values), average --> Flex\n",
    "- Hydrophilicity --> hw\n",
    "- Surface accessibility --> em\n",
    "- Janin Interior to surface transfer energy scale --> ja"
   ]
  },
  {
   "cell_type": "code",
   "execution_count": 25,
   "id": "ancient-hours",
   "metadata": {
    "scrolled": false
   },
   "outputs": [
    {
     "data": {
      "text/plain": [
       "[-0.7571428571428572,\n",
       " -0.2428571428571429,\n",
       " -0.24285714285714288,\n",
       " -0.38571428571428573,\n",
       " -0.6285714285714287,\n",
       " -0.942857142857143,\n",
       " -1.842857142857143,\n",
       " -1.442857142857143,\n",
       " -2.3428571428571425,\n",
       " -1.3000000000000003,\n",
       " -0.01428571428571433,\n",
       " 0.1285714285714285,\n",
       " 0.1285714285714285,\n",
       " -0.014285714285714235,\n",
       " -0.4142857142857143,\n",
       " 0.3428571428571428,\n",
       " -0.31428571428571417,\n",
       " -0.35714285714285715,\n",
       " -1.014285714285714,\n",
       " -0.6285714285714284,\n",
       " -0.10000000000000002,\n",
       " 0.3428571428571429,\n",
       " -0.4142857142857142,\n",
       " 0.24285714285714285,\n",
       " -1.0,\n",
       " -0.34285714285714286,\n",
       " -0.32857142857142857,\n",
       " -0.7142857142857143,\n",
       " -0.1142857142857144,\n",
       " -0.11428571428571435]"
      ]
     },
     "execution_count": 25,
     "metadata": {},
     "output_type": "execute_result"
    }
   ],
   "source": [
    "analysed_seq.protein_scale(window=7, param_dict=ProtParamData.kd)"
   ]
  },
  {
   "cell_type": "code",
   "execution_count": 26,
   "id": "confident-investigator",
   "metadata": {
    "scrolled": true
   },
   "outputs": [
    {
     "data": {
      "text/plain": [
       "{'A': 1.8,\n",
       " 'R': -4.5,\n",
       " 'N': -3.5,\n",
       " 'D': -3.5,\n",
       " 'C': 2.5,\n",
       " 'Q': -3.5,\n",
       " 'E': -3.5,\n",
       " 'G': -0.4,\n",
       " 'H': -3.2,\n",
       " 'I': 4.5,\n",
       " 'L': 3.8,\n",
       " 'K': -3.9,\n",
       " 'M': 1.9,\n",
       " 'F': 2.8,\n",
       " 'P': -1.6,\n",
       " 'S': -0.8,\n",
       " 'T': -0.7,\n",
       " 'W': -0.9,\n",
       " 'Y': -1.3,\n",
       " 'V': 4.2}"
      ]
     },
     "execution_count": 26,
     "metadata": {},
     "output_type": "execute_result"
    }
   ],
   "source": [
    "ProtParamData.kd"
   ]
  },
  {
   "cell_type": "code",
   "execution_count": 27,
   "id": "orange-technician",
   "metadata": {},
   "outputs": [],
   "source": [
    "# Define parser and get structure from file\n",
    "parser = MMCIFParser()\n",
    "structure = parser.get_structure(\"PHA-L\", \"fa/1fat.cif\")\n",
    "\n",
    "# Define polypeptide builder\n",
    "ppb = CaPPBuilder()\n",
    "\n",
    "# Create empty list for chains\n",
    "all_seqs = []\n",
    "counter = 1\n",
    "\n",
    "# For each polypeptide in the structure, run protein analysis methods and store in dict\n",
    "for pp in ppb.build_peptides(structure):\n",
    "    seq_info = {}\n",
    "    seq = pp.get_sequence()\n",
    "    analyzed_seq = ProteinAnalysis(str(seq)) # needs to be a str\n",
    "\n",
    "    seq_info['Sequence Number'] = counter # set sequence id\n",
    "    seq_info['Sequence'] = seq # store Seq() object\n",
    "    seq_info['Sequence Length'] = len(seq) # length of seq\n",
    "    seq_info['Molecular Weight'] = round(analyzed_seq.molecular_weight(), 2) # mol weight\n",
    "    seq_info['GRAVY'] = round(analyzed_seq.gravy(), 4) # average hydrophobicity\n",
    "    seq_info['Amino Acid Count'] = analyzed_seq.count_amino_acids() # count residues\n",
    "    seq_info['Amino Acid Percent'] = analyzed_seq.get_amino_acids_percent() # normalized count\n",
    "    seq_info['Secondary Structure'] = analyzed_seq.secondary_structure_fraction() # helix, turn, sheet\n",
    "    \n",
    "    # Update all_seqs list and increase counter\n",
    "    all_seqs.append(seq_info)\n",
    "    counter += 1"
   ]
  },
  {
   "cell_type": "code",
   "execution_count": 33,
   "id": "fewer-access",
   "metadata": {},
   "outputs": [],
   "source": [
    "def analyze_protein(structure):\n",
    "    all_seqs = []\n",
    "    counter = 1\n",
    "    \n",
    "    # For each polypeptide in the structure, run protein analysis methods and store in dict\n",
    "    for pp in ppb.build_peptides(structure):\n",
    "        seq_info = {}\n",
    "        seq = pp.get_sequence()\n",
    "        analyzed_seq = ProteinAnalysis(str(seq)) # needs to be a str\n",
    "\n",
    "        seq_info['Sequence Number'] = counter # set sequence id\n",
    "        seq_info['Sequence'] = seq # store Seq() object\n",
    "        seq_info['Sequence Length'] = len(seq) # length of seq\n",
    "        seq_info['Molecular Weight'] = round(analyzed_seq.molecular_weight(), 2) # mol weight\n",
    "        seq_info['GRAVY'] = round(analyzed_seq.gravy(), 4) # average hydrophobicity\n",
    "        seq_info['Amino Acid Count'] = analyzed_seq.count_amino_acids() # count residues\n",
    "        seq_info['Amino Acid Percent'] = analyzed_seq.get_amino_acids_percent() # normalized count\n",
    "        seq_info['Secondary Structure'] = analyzed_seq.secondary_structure_fraction() # helix, turn, sheet\n",
    "\n",
    "        # Update all_seqs list and increase counter\n",
    "        all_seqs.append(seq_info)\n",
    "        counter += 1\n",
    "    return all_seqs"
   ]
  },
  {
   "cell_type": "code",
   "execution_count": 34,
   "id": "straight-penny",
   "metadata": {},
   "outputs": [
    {
     "data": {
      "text/plain": [
       "[{'Sequence Number': 1,\n",
       "  'Sequence': Seq('SNDIYFNFQRFNETNLILQRDASVSSSGQLRLTNLN'),\n",
       "  'Sequence Length': 36,\n",
       "  'Molecular Weight': 4176.52,\n",
       "  'GRAVY': -0.5611,\n",
       "  'Amino Acid Count': {'A': 1,\n",
       "   'C': 0,\n",
       "   'D': 2,\n",
       "   'E': 1,\n",
       "   'F': 3,\n",
       "   'G': 1,\n",
       "   'H': 0,\n",
       "   'I': 2,\n",
       "   'K': 0,\n",
       "   'L': 5,\n",
       "   'M': 0,\n",
       "   'N': 6,\n",
       "   'P': 0,\n",
       "   'Q': 3,\n",
       "   'R': 3,\n",
       "   'S': 5,\n",
       "   'T': 2,\n",
       "   'V': 1,\n",
       "   'W': 0,\n",
       "   'Y': 1},\n",
       "  'Amino Acid Percent': {'A': 0.027777777777777776,\n",
       "   'C': 0.0,\n",
       "   'D': 0.05555555555555555,\n",
       "   'E': 0.027777777777777776,\n",
       "   'F': 0.08333333333333333,\n",
       "   'G': 0.027777777777777776,\n",
       "   'H': 0.0,\n",
       "   'I': 0.05555555555555555,\n",
       "   'K': 0.0,\n",
       "   'L': 0.1388888888888889,\n",
       "   'M': 0.0,\n",
       "   'N': 0.16666666666666666,\n",
       "   'P': 0.0,\n",
       "   'Q': 0.08333333333333333,\n",
       "   'R': 0.08333333333333333,\n",
       "   'S': 0.1388888888888889,\n",
       "   'T': 0.05555555555555555,\n",
       "   'V': 0.027777777777777776,\n",
       "   'W': 0.0,\n",
       "   'Y': 0.027777777777777776},\n",
       "  'Secondary Structure': (0.3333333333333333,\n",
       "   0.3333333333333333,\n",
       "   0.19444444444444445)},\n",
       " {'Sequence Number': 2,\n",
       "  'Sequence': Seq('NGEPRVGSLGRAFYSAPIQIWDNTTGTVASFATSFTFNIQVPNNAGPADGLAFA...KLS'),\n",
       "  'Sequence Length': 196,\n",
       "  'Molecular Weight': 21164.2,\n",
       "  'GRAVY': -0.0959,\n",
       "  'Amino Acid Count': {'A': 13,\n",
       "   'C': 0,\n",
       "   'D': 13,\n",
       "   'E': 7,\n",
       "   'F': 13,\n",
       "   'G': 16,\n",
       "   'H': 2,\n",
       "   'I': 10,\n",
       "   'K': 8,\n",
       "   'L': 14,\n",
       "   'M': 0,\n",
       "   'N': 15,\n",
       "   'P': 9,\n",
       "   'Q': 4,\n",
       "   'R': 5,\n",
       "   'S': 22,\n",
       "   'T': 17,\n",
       "   'V': 19,\n",
       "   'W': 5,\n",
       "   'Y': 4},\n",
       "  'Amino Acid Percent': {'A': 0.0663265306122449,\n",
       "   'C': 0.0,\n",
       "   'D': 0.0663265306122449,\n",
       "   'E': 0.03571428571428571,\n",
       "   'F': 0.0663265306122449,\n",
       "   'G': 0.08163265306122448,\n",
       "   'H': 0.01020408163265306,\n",
       "   'I': 0.05102040816326531,\n",
       "   'K': 0.04081632653061224,\n",
       "   'L': 0.07142857142857142,\n",
       "   'M': 0.0,\n",
       "   'N': 0.07653061224489796,\n",
       "   'P': 0.04591836734693878,\n",
       "   'Q': 0.02040816326530612,\n",
       "   'R': 0.025510204081632654,\n",
       "   'S': 0.11224489795918367,\n",
       "   'T': 0.08673469387755102,\n",
       "   'V': 0.09693877551020408,\n",
       "   'W': 0.025510204081632654,\n",
       "   'Y': 0.02040816326530612},\n",
       "  'Secondary Structure': (0.33163265306122447,\n",
       "   0.3163265306122449,\n",
       "   0.17346938775510204)},\n",
       " {'Sequence Number': 3,\n",
       "  'Sequence': Seq('SNDIYFNFQRFNETNLILQRDASVSSSGQLRLTNLNGNGEPRVGSLGRAFYSAP...KLS'),\n",
       "  'Sequence Length': 233,\n",
       "  'Molecular Weight': 25379.75,\n",
       "  'GRAVY': -0.1691,\n",
       "  'Amino Acid Count': {'A': 14,\n",
       "   'C': 0,\n",
       "   'D': 15,\n",
       "   'E': 8,\n",
       "   'F': 16,\n",
       "   'G': 18,\n",
       "   'H': 2,\n",
       "   'I': 12,\n",
       "   'K': 8,\n",
       "   'L': 19,\n",
       "   'M': 0,\n",
       "   'N': 21,\n",
       "   'P': 9,\n",
       "   'Q': 7,\n",
       "   'R': 8,\n",
       "   'S': 27,\n",
       "   'T': 19,\n",
       "   'V': 20,\n",
       "   'W': 5,\n",
       "   'Y': 5},\n",
       "  'Amino Acid Percent': {'A': 0.060085836909871244,\n",
       "   'C': 0.0,\n",
       "   'D': 0.06437768240343347,\n",
       "   'E': 0.034334763948497854,\n",
       "   'F': 0.06866952789699571,\n",
       "   'G': 0.07725321888412018,\n",
       "   'H': 0.008583690987124463,\n",
       "   'I': 0.05150214592274678,\n",
       "   'K': 0.034334763948497854,\n",
       "   'L': 0.0815450643776824,\n",
       "   'M': 0.0,\n",
       "   'N': 0.09012875536480687,\n",
       "   'P': 0.03862660944206009,\n",
       "   'Q': 0.030042918454935622,\n",
       "   'R': 0.034334763948497854,\n",
       "   'S': 0.11587982832618025,\n",
       "   'T': 0.0815450643776824,\n",
       "   'V': 0.08583690987124463,\n",
       "   'W': 0.02145922746781116,\n",
       "   'Y': 0.02145922746781116},\n",
       "  'Secondary Structure': (0.3304721030042918,\n",
       "   0.3218884120171674,\n",
       "   0.1759656652360515)},\n",
       " {'Sequence Number': 4,\n",
       "  'Sequence': Seq('SNDIYFNFQRFNETNLILQRDASVSSSGQLRLTNLN'),\n",
       "  'Sequence Length': 36,\n",
       "  'Molecular Weight': 4176.52,\n",
       "  'GRAVY': -0.5611,\n",
       "  'Amino Acid Count': {'A': 1,\n",
       "   'C': 0,\n",
       "   'D': 2,\n",
       "   'E': 1,\n",
       "   'F': 3,\n",
       "   'G': 1,\n",
       "   'H': 0,\n",
       "   'I': 2,\n",
       "   'K': 0,\n",
       "   'L': 5,\n",
       "   'M': 0,\n",
       "   'N': 6,\n",
       "   'P': 0,\n",
       "   'Q': 3,\n",
       "   'R': 3,\n",
       "   'S': 5,\n",
       "   'T': 2,\n",
       "   'V': 1,\n",
       "   'W': 0,\n",
       "   'Y': 1},\n",
       "  'Amino Acid Percent': {'A': 0.027777777777777776,\n",
       "   'C': 0.0,\n",
       "   'D': 0.05555555555555555,\n",
       "   'E': 0.027777777777777776,\n",
       "   'F': 0.08333333333333333,\n",
       "   'G': 0.027777777777777776,\n",
       "   'H': 0.0,\n",
       "   'I': 0.05555555555555555,\n",
       "   'K': 0.0,\n",
       "   'L': 0.1388888888888889,\n",
       "   'M': 0.0,\n",
       "   'N': 0.16666666666666666,\n",
       "   'P': 0.0,\n",
       "   'Q': 0.08333333333333333,\n",
       "   'R': 0.08333333333333333,\n",
       "   'S': 0.1388888888888889,\n",
       "   'T': 0.05555555555555555,\n",
       "   'V': 0.027777777777777776,\n",
       "   'W': 0.0,\n",
       "   'Y': 0.027777777777777776},\n",
       "  'Secondary Structure': (0.3333333333333333,\n",
       "   0.3333333333333333,\n",
       "   0.19444444444444445)},\n",
       " {'Sequence Number': 5,\n",
       "  'Sequence': Seq('NGEPRVGSLGRAFYSAPIQIWDNTTGTVASFATSFTFNIQVPNNAGPADGLAFA...KLS'),\n",
       "  'Sequence Length': 196,\n",
       "  'Molecular Weight': 21164.2,\n",
       "  'GRAVY': -0.0959,\n",
       "  'Amino Acid Count': {'A': 13,\n",
       "   'C': 0,\n",
       "   'D': 13,\n",
       "   'E': 7,\n",
       "   'F': 13,\n",
       "   'G': 16,\n",
       "   'H': 2,\n",
       "   'I': 10,\n",
       "   'K': 8,\n",
       "   'L': 14,\n",
       "   'M': 0,\n",
       "   'N': 15,\n",
       "   'P': 9,\n",
       "   'Q': 4,\n",
       "   'R': 5,\n",
       "   'S': 22,\n",
       "   'T': 17,\n",
       "   'V': 19,\n",
       "   'W': 5,\n",
       "   'Y': 4},\n",
       "  'Amino Acid Percent': {'A': 0.0663265306122449,\n",
       "   'C': 0.0,\n",
       "   'D': 0.0663265306122449,\n",
       "   'E': 0.03571428571428571,\n",
       "   'F': 0.0663265306122449,\n",
       "   'G': 0.08163265306122448,\n",
       "   'H': 0.01020408163265306,\n",
       "   'I': 0.05102040816326531,\n",
       "   'K': 0.04081632653061224,\n",
       "   'L': 0.07142857142857142,\n",
       "   'M': 0.0,\n",
       "   'N': 0.07653061224489796,\n",
       "   'P': 0.04591836734693878,\n",
       "   'Q': 0.02040816326530612,\n",
       "   'R': 0.025510204081632654,\n",
       "   'S': 0.11224489795918367,\n",
       "   'T': 0.08673469387755102,\n",
       "   'V': 0.09693877551020408,\n",
       "   'W': 0.025510204081632654,\n",
       "   'Y': 0.02040816326530612},\n",
       "  'Secondary Structure': (0.33163265306122447,\n",
       "   0.3163265306122449,\n",
       "   0.17346938775510204)},\n",
       " {'Sequence Number': 6,\n",
       "  'Sequence': Seq('SNDIYFNFQRFNETNLILQRDASVSSSGQLRLTNL'),\n",
       "  'Sequence Length': 35,\n",
       "  'Molecular Weight': 4062.41,\n",
       "  'GRAVY': -0.4771,\n",
       "  'Amino Acid Count': {'A': 1,\n",
       "   'C': 0,\n",
       "   'D': 2,\n",
       "   'E': 1,\n",
       "   'F': 3,\n",
       "   'G': 1,\n",
       "   'H': 0,\n",
       "   'I': 2,\n",
       "   'K': 0,\n",
       "   'L': 5,\n",
       "   'M': 0,\n",
       "   'N': 5,\n",
       "   'P': 0,\n",
       "   'Q': 3,\n",
       "   'R': 3,\n",
       "   'S': 5,\n",
       "   'T': 2,\n",
       "   'V': 1,\n",
       "   'W': 0,\n",
       "   'Y': 1},\n",
       "  'Amino Acid Percent': {'A': 0.02857142857142857,\n",
       "   'C': 0.0,\n",
       "   'D': 0.05714285714285714,\n",
       "   'E': 0.02857142857142857,\n",
       "   'F': 0.08571428571428572,\n",
       "   'G': 0.02857142857142857,\n",
       "   'H': 0.0,\n",
       "   'I': 0.05714285714285714,\n",
       "   'K': 0.0,\n",
       "   'L': 0.14285714285714285,\n",
       "   'M': 0.0,\n",
       "   'N': 0.14285714285714285,\n",
       "   'P': 0.0,\n",
       "   'Q': 0.08571428571428572,\n",
       "   'R': 0.08571428571428572,\n",
       "   'S': 0.14285714285714285,\n",
       "   'T': 0.05714285714285714,\n",
       "   'V': 0.02857142857142857,\n",
       "   'W': 0.0,\n",
       "   'Y': 0.02857142857142857},\n",
       "  'Secondary Structure': (0.34285714285714286,\n",
       "   0.3142857142857143,\n",
       "   0.19999999999999998)},\n",
       " {'Sequence Number': 7,\n",
       "  'Sequence': Seq('NGEPRVGSLGRAFYSAPIQIWDNTTGTVASFATSFTFNIQVPNNAGPADGLAFA...KLS'),\n",
       "  'Sequence Length': 196,\n",
       "  'Molecular Weight': 21164.2,\n",
       "  'GRAVY': -0.0959,\n",
       "  'Amino Acid Count': {'A': 13,\n",
       "   'C': 0,\n",
       "   'D': 13,\n",
       "   'E': 7,\n",
       "   'F': 13,\n",
       "   'G': 16,\n",
       "   'H': 2,\n",
       "   'I': 10,\n",
       "   'K': 8,\n",
       "   'L': 14,\n",
       "   'M': 0,\n",
       "   'N': 15,\n",
       "   'P': 9,\n",
       "   'Q': 4,\n",
       "   'R': 5,\n",
       "   'S': 22,\n",
       "   'T': 17,\n",
       "   'V': 19,\n",
       "   'W': 5,\n",
       "   'Y': 4},\n",
       "  'Amino Acid Percent': {'A': 0.0663265306122449,\n",
       "   'C': 0.0,\n",
       "   'D': 0.0663265306122449,\n",
       "   'E': 0.03571428571428571,\n",
       "   'F': 0.0663265306122449,\n",
       "   'G': 0.08163265306122448,\n",
       "   'H': 0.01020408163265306,\n",
       "   'I': 0.05102040816326531,\n",
       "   'K': 0.04081632653061224,\n",
       "   'L': 0.07142857142857142,\n",
       "   'M': 0.0,\n",
       "   'N': 0.07653061224489796,\n",
       "   'P': 0.04591836734693878,\n",
       "   'Q': 0.02040816326530612,\n",
       "   'R': 0.025510204081632654,\n",
       "   'S': 0.11224489795918367,\n",
       "   'T': 0.08673469387755102,\n",
       "   'V': 0.09693877551020408,\n",
       "   'W': 0.025510204081632654,\n",
       "   'Y': 0.02040816326530612},\n",
       "  'Secondary Structure': (0.33163265306122447,\n",
       "   0.3163265306122449,\n",
       "   0.17346938775510204)}]"
      ]
     },
     "execution_count": 34,
     "metadata": {},
     "output_type": "execute_result"
    }
   ],
   "source": [
    "analyze_protein(structure)"
   ]
  },
  {
   "cell_type": "code",
   "execution_count": 36,
   "id": "alien-leisure",
   "metadata": {},
   "outputs": [
    {
     "data": {
      "text/plain": [
       "{'Sequence Number': 1,\n",
       " 'Sequence': Seq('SNDIYFNFQRFNETNLILQRDASVSSSGQLRLTNLN'),\n",
       " 'Sequence Length': 36,\n",
       " 'Molecular Weight': 4176.52,\n",
       " 'GRAVY': -0.5611,\n",
       " 'Amino Acid Count': {'A': 1,\n",
       "  'C': 0,\n",
       "  'D': 2,\n",
       "  'E': 1,\n",
       "  'F': 3,\n",
       "  'G': 1,\n",
       "  'H': 0,\n",
       "  'I': 2,\n",
       "  'K': 0,\n",
       "  'L': 5,\n",
       "  'M': 0,\n",
       "  'N': 6,\n",
       "  'P': 0,\n",
       "  'Q': 3,\n",
       "  'R': 3,\n",
       "  'S': 5,\n",
       "  'T': 2,\n",
       "  'V': 1,\n",
       "  'W': 0,\n",
       "  'Y': 1},\n",
       " 'Amino Acid Percent': {'A': 0.027777777777777776,\n",
       "  'C': 0.0,\n",
       "  'D': 0.05555555555555555,\n",
       "  'E': 0.027777777777777776,\n",
       "  'F': 0.08333333333333333,\n",
       "  'G': 0.027777777777777776,\n",
       "  'H': 0.0,\n",
       "  'I': 0.05555555555555555,\n",
       "  'K': 0.0,\n",
       "  'L': 0.1388888888888889,\n",
       "  'M': 0.0,\n",
       "  'N': 0.16666666666666666,\n",
       "  'P': 0.0,\n",
       "  'Q': 0.08333333333333333,\n",
       "  'R': 0.08333333333333333,\n",
       "  'S': 0.1388888888888889,\n",
       "  'T': 0.05555555555555555,\n",
       "  'V': 0.027777777777777776,\n",
       "  'W': 0.0,\n",
       "  'Y': 0.027777777777777776},\n",
       " 'Secondary Structure': (0.3333333333333333,\n",
       "  0.3333333333333333,\n",
       "  0.19444444444444445)}"
      ]
     },
     "execution_count": 36,
     "metadata": {},
     "output_type": "execute_result"
    }
   ],
   "source": [
    "all_seqs[0]"
   ]
  },
  {
   "cell_type": "code",
   "execution_count": null,
   "id": "stock-logistics",
   "metadata": {},
   "outputs": [],
   "source": []
  }
 ],
 "metadata": {
  "kernelspec": {
   "display_name": "Python 3",
   "language": "python",
   "name": "python3"
  },
  "language_info": {
   "codemirror_mode": {
    "name": "ipython",
    "version": 3
   },
   "file_extension": ".py",
   "mimetype": "text/x-python",
   "name": "python",
   "nbconvert_exporter": "python",
   "pygments_lexer": "ipython3",
   "version": "3.10.10"
  },
  "toc": {
   "base_numbering": 1,
   "nav_menu": {},
   "number_sections": true,
   "sideBar": true,
   "skip_h1_title": false,
   "title_cell": "Table of Contents",
   "title_sidebar": "Contents",
   "toc_cell": false,
   "toc_position": {},
   "toc_section_display": true,
   "toc_window_display": false
  }
 },
 "nbformat": 4,
 "nbformat_minor": 5
}
